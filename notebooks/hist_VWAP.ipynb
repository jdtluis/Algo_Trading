{
 "cells": [
  {
   "attachments": {},
   "cell_type": "markdown",
   "metadata": {},
   "source": [
    "import requests\n",
    "import pandas as pd\n",
    "\n",
    "fechaini = '09/01/2022'\n",
    "fechafin = '12/21/2022'\n",
    "ticker = 'BAC'\n",
    "ndays =  '20'\n",
    "prepost = 'false'\n",
    "minute = '5m'\n",
    "\n",
    "url = f'https://query1.finance.yahoo.com/v8/finance/chart/{ticker}?range={ndays}d&includePrePost={prepost}&interval={minute}&corsDomain=finance.yahoo.com&.tsrc=finance'\n",
    "headers = {\n",
    "'User-Agent':\n",
    "'Mozilla/5.0 (Windows NT 10.0; Win64; x64) AppleWebKit/537.36 (KHTML, like Gecko) Chrome/114.0.0.0 Safari/537.36'}\n",
    "r = requests.get(url, headers=headers)\n",
    "r.json()['chart']['result'][0]['meta'].keys()"
   ]
  },
  {
   "cell_type": "code",
   "execution_count": 1,
   "metadata": {
    "tags": [
     "parameters"
    ]
   },
   "outputs": [],
   "source": [
    "tickers='MSFT'\n",
    "period=\"50d\"\n",
    "interval='5m'"
   ]
  },
  {
   "cell_type": "code",
   "execution_count": 2,
   "metadata": {},
   "outputs": [],
   "source": [
    "import yfinance as yf\n",
    "import plotly.graph_objects as go\n",
    "from datetime import date\n",
    "import pandas as pd\n",
    "#%matplotlib\n",
    "import matplotlib.pyplot as plt\n",
    "import numpy as np\n",
    "import plotly.express as px\n",
    "from datetime import time\n",
    "#msft = yf.Ticker(\"MSFT\")\n",
    "#msft.info\n"
   ]
  },
  {
   "cell_type": "code",
   "execution_count": 3,
   "metadata": {},
   "outputs": [
    {
     "name": "stdout",
     "output_type": "stream",
     "text": [
      "[*********************100%***********************]  1 of 1 completed\n",
      "(3857, 6)\n"
     ]
    }
   ],
   "source": [
    "data = yf.download(tickers=tickers, period=period, interval=interval)\n",
    "print(data.shape)"
   ]
  },
  {
   "cell_type": "code",
   "execution_count": 4,
   "metadata": {},
   "outputs": [
    {
     "data": {
      "text/plain": [
       "(3648, 8)"
      ]
     },
     "execution_count": 4,
     "metadata": {},
     "output_type": "execute_result"
    }
   ],
   "source": [
    "# Drop incomplete dates series\n",
    "data['daysTime'] = data.index.time\n",
    "data['dates'] = data.index.date\n",
    "\n",
    "g = data.groupby(['dates'])['daysTime'].agg(['min','max'])\n",
    "drop_dates = g.loc[g['max'] < time(15,55)].index.values\n",
    "data = data[~(data['dates'].isin(drop_dates.tolist()))]\n",
    "\n",
    "# Avoid auction's bar and 16hs bar\n",
    "data = data[~(data['daysTime'].isin([time(9,30),time(15,55),time(16,0)]))]\n",
    "t_data = data[data['dates'].isin([data['dates'].max()])]\n",
    "data.shape\n"
   ]
  },
  {
   "cell_type": "code",
   "execution_count": 5,
   "metadata": {},
   "outputs": [
    {
     "data": {
      "text/plain": [
       "[datetime.date(2023, 7, 3), datetime.date(2023, 8, 16)]"
      ]
     },
     "execution_count": 5,
     "metadata": {},
     "output_type": "execute_result"
    }
   ],
   "source": [
    "df_d=data.groupby('dates')['dates'].count()\n",
    "drop_dates.tolist()\n"
   ]
  },
  {
   "cell_type": "code",
   "execution_count": 6,
   "metadata": {},
   "outputs": [
    {
     "name": "stdout",
     "output_type": "stream",
     "text": [
      "Effective VWAP 323.30782032796645\n",
      "Estimated VWAP 323.32638896472105\n",
      "Error % VWAP -0.0057430006916714404\n"
     ]
    },
    {
     "name": "stderr",
     "output_type": "stream",
     "text": [
      "C:\\Users\\jljuncos\\AppData\\Local\\Temp\\ipykernel_7392\\4100490092.py:3: FutureWarning: Indexing with multiple keys (implicitly converted to a tuple of keys) will be deprecated, use a list instead.\n",
      "  VWAP_d = data.groupby(['dates'])['typical_price_w','Volume'].sum() #/ data.groupby(['dates'])['Volume'].sum()\n"
     ]
    }
   ],
   "source": [
    "data['typical_price'] = data[['High', 'Low', 'Close']].mean(axis=1)\n",
    "data['typical_price_w'] = data[['High', 'Low', 'Close']].mean(axis=1) * data['Volume']\n",
    "VWAP_d = data.groupby(['dates'])['typical_price_w','Volume'].sum() #/ data.groupby(['dates'])['Volume'].sum()\n",
    "VWAP_d['vwap'] = VWAP_d['typical_price_w'] / VWAP_d['Volume']\n",
    "# Average volumen by interval\n",
    "avgvol = data.groupby(['daysTime'])['Volume'].mean()\n",
    "percvol = data.groupby(['daysTime'])['Volume'].sum()/data.Volume.sum()\n",
    "\n",
    "# Merge with last date data to compare average volume with last day volumen by interval \n",
    "t_data = t_data.merge(avgvol, left_on='daysTime', right_on='daysTime')\n",
    "t_data['typical_price_w_y'] = t_data[['High', 'Low', 'Close']].mean(axis=1) * t_data['Volume_y']\n",
    "t_data['typical_price_w_x'] = t_data[['High', 'Low', 'Close']].mean(axis=1) * t_data['Volume_x']\n",
    "\n",
    "# Compare efffective last day VWAP vs estimated volume VWAP\n",
    "dayVWAP = t_data['typical_price_w_y'].sum()/t_data['Volume_y'].sum()\n",
    "estimateVWAP = t_data['typical_price_w_x'].sum()/t_data['Volume_x'].sum()\n",
    "error = 100 * (dayVWAP/estimateVWAP -1)\n",
    "print('Effective VWAP ' + dayVWAP.__str__())\n",
    "print('Estimated VWAP ' + estimateVWAP.__str__())\n",
    "print('Error % VWAP ' + error.__str__())\n"
   ]
  },
  {
   "cell_type": "code",
   "execution_count": 7,
   "metadata": {},
   "outputs": [
    {
     "data": {
      "application/vnd.plotly.v1+json": {
       "config": {
        "plotlyServerURL": "https://plot.ly"
       },
       "data": [
        {
         "hovertemplate": "Time Interval=Price<br>Time=%{x}<br>Avg. Volume by time window=%{y}<extra></extra>",
         "legendgroup": "Price",
         "line": {
          "color": "#636efa",
          "dash": "solid"
         },
         "marker": {
          "symbol": "circle"
         },
         "mode": "lines",
         "name": "Price",
         "orientation": "v",
         "showlegend": true,
         "type": "scatter",
         "x": [
          "09:35:00",
          "09:40:00",
          "09:45:00",
          "09:50:00",
          "09:55:00",
          "10:00:00",
          "10:05:00",
          "10:10:00",
          "10:15:00",
          "10:20:00",
          "10:25:00",
          "10:30:00",
          "10:35:00",
          "10:40:00",
          "10:45:00",
          "10:50:00",
          "10:55:00",
          "11:00:00",
          "11:05:00",
          "11:10:00",
          "11:15:00",
          "11:20:00",
          "11:25:00",
          "11:30:00",
          "11:35:00",
          "11:40:00",
          "11:45:00",
          "11:50:00",
          "11:55:00",
          "12:00:00",
          "12:05:00",
          "12:10:00",
          "12:15:00",
          "12:20:00",
          "12:25:00",
          "12:30:00",
          "12:35:00",
          "12:40:00",
          "12:45:00",
          "12:50:00",
          "12:55:00",
          "13:00:00",
          "13:05:00",
          "13:10:00",
          "13:15:00",
          "13:20:00",
          "13:25:00",
          "13:30:00",
          "13:35:00",
          "13:40:00",
          "13:45:00",
          "13:50:00",
          "13:55:00",
          "14:00:00",
          "14:05:00",
          "14:10:00",
          "14:15:00",
          "14:20:00",
          "14:25:00",
          "14:30:00",
          "14:35:00",
          "14:40:00",
          "14:45:00",
          "14:50:00",
          "14:55:00",
          "15:00:00",
          "15:05:00",
          "15:10:00",
          "15:15:00",
          "15:20:00",
          "15:25:00",
          "15:30:00",
          "15:35:00",
          "15:40:00",
          "15:45:00",
          "15:50:00"
         ],
         "xaxis": "x",
         "y": [
          1,
          1,
          1,
          1,
          1,
          1,
          1,
          1,
          1,
          1,
          1,
          1,
          1,
          1,
          1,
          1,
          1,
          1,
          1,
          1,
          1,
          1,
          1,
          1,
          1,
          1,
          1,
          1,
          1,
          1,
          1,
          1,
          1,
          1,
          1,
          1,
          1,
          1,
          1,
          1,
          1,
          1,
          1,
          1,
          1,
          1,
          1,
          1,
          1,
          1,
          1,
          1,
          1,
          1,
          1,
          1,
          1,
          1,
          1,
          1,
          1,
          1,
          1,
          1,
          1,
          1,
          1,
          1,
          1,
          1,
          1,
          1,
          1,
          1,
          1,
          1
         ],
         "yaxis": "y"
        },
        {
         "name": "Average volume",
         "type": "bar",
         "x": [
          "09:35:00",
          "09:40:00",
          "09:45:00",
          "09:50:00",
          "09:55:00",
          "10:00:00",
          "10:05:00",
          "10:10:00",
          "10:15:00",
          "10:20:00",
          "10:25:00",
          "10:30:00",
          "10:35:00",
          "10:40:00",
          "10:45:00",
          "10:50:00",
          "10:55:00",
          "11:00:00",
          "11:05:00",
          "11:10:00",
          "11:15:00",
          "11:20:00",
          "11:25:00",
          "11:30:00",
          "11:35:00",
          "11:40:00",
          "11:45:00",
          "11:50:00",
          "11:55:00",
          "12:00:00",
          "12:05:00",
          "12:10:00",
          "12:15:00",
          "12:20:00",
          "12:25:00",
          "12:30:00",
          "12:35:00",
          "12:40:00",
          "12:45:00",
          "12:50:00",
          "12:55:00",
          "13:00:00",
          "13:05:00",
          "13:10:00",
          "13:15:00",
          "13:20:00",
          "13:25:00",
          "13:30:00",
          "13:35:00",
          "13:40:00",
          "13:45:00",
          "13:50:00",
          "13:55:00",
          "14:00:00",
          "14:05:00",
          "14:10:00",
          "14:15:00",
          "14:20:00",
          "14:25:00",
          "14:30:00",
          "14:35:00",
          "14:40:00",
          "14:45:00",
          "14:50:00",
          "14:55:00",
          "15:00:00",
          "15:05:00",
          "15:10:00",
          "15:15:00",
          "15:20:00",
          "15:25:00",
          "15:30:00",
          "15:35:00",
          "15:40:00",
          "15:45:00",
          "15:50:00"
         ],
         "y": [
          602314.375,
          531524.9791666666,
          504930.8958333333,
          423470.1875,
          397151.625,
          427179.4583333333,
          393481.6458333333,
          381873.5416666667,
          376290.2916666667,
          334317.5,
          355323.5625,
          333695.1875,
          309376.25,
          307378.1875,
          310958.625,
          308319.0625,
          280564.5625,
          266879.3125,
          244482.8125,
          235275.29166666666,
          264199.2708333333,
          247204.625,
          231541.45833333334,
          280821.2291666667,
          255726.8125,
          269768.25,
          255769.75,
          241051.77083333334,
          249593.89583333334,
          265369.625,
          254754.66666666666,
          253205.875,
          205420.10416666666,
          217994.89583333334,
          218984.33333333334,
          238711.5,
          208735.47916666666,
          178552.6875,
          188434.5,
          176737.83333333334,
          172047.95833333334,
          168923.75,
          184110.375,
          165558.85416666666,
          164470.77083333334,
          185618.54166666666,
          165921.4375,
          194087.85416666666,
          170675.5,
          161873.66666666666,
          187905.5,
          173963,
          158866.52083333334,
          194501.10416666666,
          189960.04166666666,
          186912.72916666666,
          186145.75,
          173134.83333333334,
          175926.35416666666,
          200112.8125,
          181821.77083333334,
          187369.5625,
          168050.91666666666,
          177249.35416666666,
          200834.625,
          204171.83333333334,
          210591.625,
          205200.60416666666,
          217311.8125,
          221595.04166666666,
          224525.97916666666,
          259038.45833333334,
          268021.7916666667,
          301176.375,
          357725.25,
          653190.6458333334
         ]
        }
       ],
       "layout": {
        "legend": {
         "title": {
          "text": "Time Interval"
         },
         "tracegroupgap": 0
        },
        "margin": {
         "t": 60
        },
        "template": {
         "data": {
          "bar": [
           {
            "error_x": {
             "color": "#2a3f5f"
            },
            "error_y": {
             "color": "#2a3f5f"
            },
            "marker": {
             "line": {
              "color": "#E5ECF6",
              "width": 0.5
             },
             "pattern": {
              "fillmode": "overlay",
              "size": 10,
              "solidity": 0.2
             }
            },
            "type": "bar"
           }
          ],
          "barpolar": [
           {
            "marker": {
             "line": {
              "color": "#E5ECF6",
              "width": 0.5
             },
             "pattern": {
              "fillmode": "overlay",
              "size": 10,
              "solidity": 0.2
             }
            },
            "type": "barpolar"
           }
          ],
          "carpet": [
           {
            "aaxis": {
             "endlinecolor": "#2a3f5f",
             "gridcolor": "white",
             "linecolor": "white",
             "minorgridcolor": "white",
             "startlinecolor": "#2a3f5f"
            },
            "baxis": {
             "endlinecolor": "#2a3f5f",
             "gridcolor": "white",
             "linecolor": "white",
             "minorgridcolor": "white",
             "startlinecolor": "#2a3f5f"
            },
            "type": "carpet"
           }
          ],
          "choropleth": [
           {
            "colorbar": {
             "outlinewidth": 0,
             "ticks": ""
            },
            "type": "choropleth"
           }
          ],
          "contour": [
           {
            "colorbar": {
             "outlinewidth": 0,
             "ticks": ""
            },
            "colorscale": [
             [
              0,
              "#0d0887"
             ],
             [
              0.1111111111111111,
              "#46039f"
             ],
             [
              0.2222222222222222,
              "#7201a8"
             ],
             [
              0.3333333333333333,
              "#9c179e"
             ],
             [
              0.4444444444444444,
              "#bd3786"
             ],
             [
              0.5555555555555556,
              "#d8576b"
             ],
             [
              0.6666666666666666,
              "#ed7953"
             ],
             [
              0.7777777777777778,
              "#fb9f3a"
             ],
             [
              0.8888888888888888,
              "#fdca26"
             ],
             [
              1,
              "#f0f921"
             ]
            ],
            "type": "contour"
           }
          ],
          "contourcarpet": [
           {
            "colorbar": {
             "outlinewidth": 0,
             "ticks": ""
            },
            "type": "contourcarpet"
           }
          ],
          "heatmap": [
           {
            "colorbar": {
             "outlinewidth": 0,
             "ticks": ""
            },
            "colorscale": [
             [
              0,
              "#0d0887"
             ],
             [
              0.1111111111111111,
              "#46039f"
             ],
             [
              0.2222222222222222,
              "#7201a8"
             ],
             [
              0.3333333333333333,
              "#9c179e"
             ],
             [
              0.4444444444444444,
              "#bd3786"
             ],
             [
              0.5555555555555556,
              "#d8576b"
             ],
             [
              0.6666666666666666,
              "#ed7953"
             ],
             [
              0.7777777777777778,
              "#fb9f3a"
             ],
             [
              0.8888888888888888,
              "#fdca26"
             ],
             [
              1,
              "#f0f921"
             ]
            ],
            "type": "heatmap"
           }
          ],
          "heatmapgl": [
           {
            "colorbar": {
             "outlinewidth": 0,
             "ticks": ""
            },
            "colorscale": [
             [
              0,
              "#0d0887"
             ],
             [
              0.1111111111111111,
              "#46039f"
             ],
             [
              0.2222222222222222,
              "#7201a8"
             ],
             [
              0.3333333333333333,
              "#9c179e"
             ],
             [
              0.4444444444444444,
              "#bd3786"
             ],
             [
              0.5555555555555556,
              "#d8576b"
             ],
             [
              0.6666666666666666,
              "#ed7953"
             ],
             [
              0.7777777777777778,
              "#fb9f3a"
             ],
             [
              0.8888888888888888,
              "#fdca26"
             ],
             [
              1,
              "#f0f921"
             ]
            ],
            "type": "heatmapgl"
           }
          ],
          "histogram": [
           {
            "marker": {
             "pattern": {
              "fillmode": "overlay",
              "size": 10,
              "solidity": 0.2
             }
            },
            "type": "histogram"
           }
          ],
          "histogram2d": [
           {
            "colorbar": {
             "outlinewidth": 0,
             "ticks": ""
            },
            "colorscale": [
             [
              0,
              "#0d0887"
             ],
             [
              0.1111111111111111,
              "#46039f"
             ],
             [
              0.2222222222222222,
              "#7201a8"
             ],
             [
              0.3333333333333333,
              "#9c179e"
             ],
             [
              0.4444444444444444,
              "#bd3786"
             ],
             [
              0.5555555555555556,
              "#d8576b"
             ],
             [
              0.6666666666666666,
              "#ed7953"
             ],
             [
              0.7777777777777778,
              "#fb9f3a"
             ],
             [
              0.8888888888888888,
              "#fdca26"
             ],
             [
              1,
              "#f0f921"
             ]
            ],
            "type": "histogram2d"
           }
          ],
          "histogram2dcontour": [
           {
            "colorbar": {
             "outlinewidth": 0,
             "ticks": ""
            },
            "colorscale": [
             [
              0,
              "#0d0887"
             ],
             [
              0.1111111111111111,
              "#46039f"
             ],
             [
              0.2222222222222222,
              "#7201a8"
             ],
             [
              0.3333333333333333,
              "#9c179e"
             ],
             [
              0.4444444444444444,
              "#bd3786"
             ],
             [
              0.5555555555555556,
              "#d8576b"
             ],
             [
              0.6666666666666666,
              "#ed7953"
             ],
             [
              0.7777777777777778,
              "#fb9f3a"
             ],
             [
              0.8888888888888888,
              "#fdca26"
             ],
             [
              1,
              "#f0f921"
             ]
            ],
            "type": "histogram2dcontour"
           }
          ],
          "mesh3d": [
           {
            "colorbar": {
             "outlinewidth": 0,
             "ticks": ""
            },
            "type": "mesh3d"
           }
          ],
          "parcoords": [
           {
            "line": {
             "colorbar": {
              "outlinewidth": 0,
              "ticks": ""
             }
            },
            "type": "parcoords"
           }
          ],
          "pie": [
           {
            "automargin": true,
            "type": "pie"
           }
          ],
          "scatter": [
           {
            "fillpattern": {
             "fillmode": "overlay",
             "size": 10,
             "solidity": 0.2
            },
            "type": "scatter"
           }
          ],
          "scatter3d": [
           {
            "line": {
             "colorbar": {
              "outlinewidth": 0,
              "ticks": ""
             }
            },
            "marker": {
             "colorbar": {
              "outlinewidth": 0,
              "ticks": ""
             }
            },
            "type": "scatter3d"
           }
          ],
          "scattercarpet": [
           {
            "marker": {
             "colorbar": {
              "outlinewidth": 0,
              "ticks": ""
             }
            },
            "type": "scattercarpet"
           }
          ],
          "scattergeo": [
           {
            "marker": {
             "colorbar": {
              "outlinewidth": 0,
              "ticks": ""
             }
            },
            "type": "scattergeo"
           }
          ],
          "scattergl": [
           {
            "marker": {
             "colorbar": {
              "outlinewidth": 0,
              "ticks": ""
             }
            },
            "type": "scattergl"
           }
          ],
          "scattermapbox": [
           {
            "marker": {
             "colorbar": {
              "outlinewidth": 0,
              "ticks": ""
             }
            },
            "type": "scattermapbox"
           }
          ],
          "scatterpolar": [
           {
            "marker": {
             "colorbar": {
              "outlinewidth": 0,
              "ticks": ""
             }
            },
            "type": "scatterpolar"
           }
          ],
          "scatterpolargl": [
           {
            "marker": {
             "colorbar": {
              "outlinewidth": 0,
              "ticks": ""
             }
            },
            "type": "scatterpolargl"
           }
          ],
          "scatterternary": [
           {
            "marker": {
             "colorbar": {
              "outlinewidth": 0,
              "ticks": ""
             }
            },
            "type": "scatterternary"
           }
          ],
          "surface": [
           {
            "colorbar": {
             "outlinewidth": 0,
             "ticks": ""
            },
            "colorscale": [
             [
              0,
              "#0d0887"
             ],
             [
              0.1111111111111111,
              "#46039f"
             ],
             [
              0.2222222222222222,
              "#7201a8"
             ],
             [
              0.3333333333333333,
              "#9c179e"
             ],
             [
              0.4444444444444444,
              "#bd3786"
             ],
             [
              0.5555555555555556,
              "#d8576b"
             ],
             [
              0.6666666666666666,
              "#ed7953"
             ],
             [
              0.7777777777777778,
              "#fb9f3a"
             ],
             [
              0.8888888888888888,
              "#fdca26"
             ],
             [
              1,
              "#f0f921"
             ]
            ],
            "type": "surface"
           }
          ],
          "table": [
           {
            "cells": {
             "fill": {
              "color": "#EBF0F8"
             },
             "line": {
              "color": "white"
             }
            },
            "header": {
             "fill": {
              "color": "#C8D4E3"
             },
             "line": {
              "color": "white"
             }
            },
            "type": "table"
           }
          ]
         },
         "layout": {
          "annotationdefaults": {
           "arrowcolor": "#2a3f5f",
           "arrowhead": 0,
           "arrowwidth": 1
          },
          "autotypenumbers": "strict",
          "coloraxis": {
           "colorbar": {
            "outlinewidth": 0,
            "ticks": ""
           }
          },
          "colorscale": {
           "diverging": [
            [
             0,
             "#8e0152"
            ],
            [
             0.1,
             "#c51b7d"
            ],
            [
             0.2,
             "#de77ae"
            ],
            [
             0.3,
             "#f1b6da"
            ],
            [
             0.4,
             "#fde0ef"
            ],
            [
             0.5,
             "#f7f7f7"
            ],
            [
             0.6,
             "#e6f5d0"
            ],
            [
             0.7,
             "#b8e186"
            ],
            [
             0.8,
             "#7fbc41"
            ],
            [
             0.9,
             "#4d9221"
            ],
            [
             1,
             "#276419"
            ]
           ],
           "sequential": [
            [
             0,
             "#0d0887"
            ],
            [
             0.1111111111111111,
             "#46039f"
            ],
            [
             0.2222222222222222,
             "#7201a8"
            ],
            [
             0.3333333333333333,
             "#9c179e"
            ],
            [
             0.4444444444444444,
             "#bd3786"
            ],
            [
             0.5555555555555556,
             "#d8576b"
            ],
            [
             0.6666666666666666,
             "#ed7953"
            ],
            [
             0.7777777777777778,
             "#fb9f3a"
            ],
            [
             0.8888888888888888,
             "#fdca26"
            ],
            [
             1,
             "#f0f921"
            ]
           ],
           "sequentialminus": [
            [
             0,
             "#0d0887"
            ],
            [
             0.1111111111111111,
             "#46039f"
            ],
            [
             0.2222222222222222,
             "#7201a8"
            ],
            [
             0.3333333333333333,
             "#9c179e"
            ],
            [
             0.4444444444444444,
             "#bd3786"
            ],
            [
             0.5555555555555556,
             "#d8576b"
            ],
            [
             0.6666666666666666,
             "#ed7953"
            ],
            [
             0.7777777777777778,
             "#fb9f3a"
            ],
            [
             0.8888888888888888,
             "#fdca26"
            ],
            [
             1,
             "#f0f921"
            ]
           ]
          },
          "colorway": [
           "#636efa",
           "#EF553B",
           "#00cc96",
           "#ab63fa",
           "#FFA15A",
           "#19d3f3",
           "#FF6692",
           "#B6E880",
           "#FF97FF",
           "#FECB52"
          ],
          "font": {
           "color": "#2a3f5f"
          },
          "geo": {
           "bgcolor": "white",
           "lakecolor": "white",
           "landcolor": "#E5ECF6",
           "showlakes": true,
           "showland": true,
           "subunitcolor": "white"
          },
          "hoverlabel": {
           "align": "left"
          },
          "hovermode": "closest",
          "mapbox": {
           "style": "light"
          },
          "paper_bgcolor": "white",
          "plot_bgcolor": "#E5ECF6",
          "polar": {
           "angularaxis": {
            "gridcolor": "white",
            "linecolor": "white",
            "ticks": ""
           },
           "bgcolor": "#E5ECF6",
           "radialaxis": {
            "gridcolor": "white",
            "linecolor": "white",
            "ticks": ""
           }
          },
          "scene": {
           "xaxis": {
            "backgroundcolor": "#E5ECF6",
            "gridcolor": "white",
            "gridwidth": 2,
            "linecolor": "white",
            "showbackground": true,
            "ticks": "",
            "zerolinecolor": "white"
           },
           "yaxis": {
            "backgroundcolor": "#E5ECF6",
            "gridcolor": "white",
            "gridwidth": 2,
            "linecolor": "white",
            "showbackground": true,
            "ticks": "",
            "zerolinecolor": "white"
           },
           "zaxis": {
            "backgroundcolor": "#E5ECF6",
            "gridcolor": "white",
            "gridwidth": 2,
            "linecolor": "white",
            "showbackground": true,
            "ticks": "",
            "zerolinecolor": "white"
           }
          },
          "shapedefaults": {
           "line": {
            "color": "#2a3f5f"
           }
          },
          "ternary": {
           "aaxis": {
            "gridcolor": "white",
            "linecolor": "white",
            "ticks": ""
           },
           "baxis": {
            "gridcolor": "white",
            "linecolor": "white",
            "ticks": ""
           },
           "bgcolor": "#E5ECF6",
           "caxis": {
            "gridcolor": "white",
            "linecolor": "white",
            "ticks": ""
           }
          },
          "title": {
           "x": 0.05
          },
          "xaxis": {
           "automargin": true,
           "gridcolor": "white",
           "linecolor": "white",
           "ticks": "",
           "title": {
            "standoff": 15
           },
           "zerolinecolor": "white",
           "zerolinewidth": 2
          },
          "yaxis": {
           "automargin": true,
           "gridcolor": "white",
           "linecolor": "white",
           "ticks": "",
           "title": {
            "standoff": 15
           },
           "zerolinecolor": "white",
           "zerolinewidth": 2
          }
         }
        },
        "xaxis": {
         "anchor": "y",
         "domain": [
          0,
          1
         ],
         "title": {
          "text": "Time"
         }
        },
        "yaxis": {
         "anchor": "x",
         "domain": [
          0,
          1
         ],
         "title": {
          "text": "Avg. Volume by time window"
         }
        }
       }
      }
     },
     "metadata": {},
     "output_type": "display_data"
    }
   ],
   "source": [
    "# Plot volume pattern for full sample average volume\n",
    "fig = px.line(x=avgvol[avgvol.values > 0].index, \n",
    "              y=[1]*avgvol[avgvol.values > 0].index.__len__(), \n",
    "              color=px.Constant(\"Price\"),\n",
    "              labels=dict(x=\"Time\", y=\"Avg. Volume by time window\", color=\"Time Interval\"))\n",
    "\n",
    "\n",
    "fig.add_bar(x=avgvol[avgvol.values > 0].index, y=avgvol[avgvol > 0], name=\"Average volume\")\n",
    "fig.show()"
   ]
  },
  {
   "cell_type": "code",
   "execution_count": 8,
   "metadata": {},
   "outputs": [
    {
     "data": {
      "application/vnd.plotly.v1+json": {
       "config": {
        "plotlyServerURL": "https://plot.ly"
       },
       "data": [
        {
         "hovertemplate": "Time Period=<br>Time=%{x}<br>Volume=%{y}<extra></extra>",
         "legendgroup": "",
         "line": {
          "color": "#636efa",
          "dash": "solid"
         },
         "marker": {
          "symbol": "circle"
         },
         "mode": "lines",
         "name": "",
         "orientation": "v",
         "showlegend": false,
         "type": "scatter",
         "x": [
          "09:35:00",
          "09:40:00",
          "09:45:00",
          "09:50:00",
          "09:55:00",
          "10:00:00",
          "10:05:00",
          "10:10:00",
          "10:15:00",
          "10:20:00",
          "10:25:00",
          "10:30:00",
          "10:35:00",
          "10:40:00",
          "10:45:00",
          "10:50:00",
          "10:55:00",
          "11:00:00",
          "11:05:00",
          "11:10:00",
          "11:15:00",
          "11:20:00",
          "11:25:00",
          "11:30:00",
          "11:35:00",
          "11:40:00",
          "11:45:00",
          "11:50:00",
          "11:55:00",
          "12:00:00",
          "12:05:00",
          "12:10:00",
          "12:15:00",
          "12:20:00",
          "12:25:00",
          "12:30:00",
          "12:35:00",
          "12:40:00",
          "12:45:00",
          "12:50:00",
          "12:55:00",
          "13:00:00",
          "13:05:00",
          "13:10:00",
          "13:15:00",
          "13:20:00",
          "13:25:00",
          "13:30:00",
          "13:35:00",
          "13:40:00",
          "13:45:00",
          "13:50:00",
          "13:55:00",
          "14:00:00",
          "14:05:00",
          "14:10:00",
          "14:15:00",
          "14:20:00",
          "14:25:00",
          "14:30:00",
          "14:35:00",
          "14:40:00",
          "14:45:00",
          "14:50:00",
          "14:55:00",
          "15:00:00",
          "15:05:00",
          "15:10:00",
          "15:15:00",
          "15:20:00",
          "15:25:00",
          "15:30:00",
          "15:35:00",
          "15:40:00",
          "15:45:00",
          "15:50:00"
         ],
         "xaxis": "x",
         "y": [
          0,
          0,
          0,
          0,
          0,
          0,
          0,
          0,
          0,
          0,
          0,
          0,
          0,
          0,
          0,
          0,
          0,
          0,
          0,
          0,
          0,
          0,
          0,
          0,
          0,
          0,
          0,
          0,
          0,
          0,
          0,
          0,
          0,
          0,
          0,
          0,
          0,
          0,
          0,
          0,
          0,
          0,
          0,
          0,
          0,
          0,
          0,
          0,
          0,
          0,
          0,
          0,
          0,
          0,
          0,
          0,
          0,
          0,
          0,
          0,
          0,
          0,
          0,
          0,
          0,
          0,
          0,
          0,
          0,
          0,
          0,
          0,
          0,
          0,
          0,
          0
         ],
         "yaxis": "y"
        },
        {
         "name": "Percent volume",
         "type": "bar",
         "x": [
          "09:35:00",
          "09:40:00",
          "09:45:00",
          "09:50:00",
          "09:55:00",
          "10:00:00",
          "10:05:00",
          "10:10:00",
          "10:15:00",
          "10:20:00",
          "10:25:00",
          "10:30:00",
          "10:35:00",
          "10:40:00",
          "10:45:00",
          "10:50:00",
          "10:55:00",
          "11:00:00",
          "11:05:00",
          "11:10:00",
          "11:15:00",
          "11:20:00",
          "11:25:00",
          "11:30:00",
          "11:35:00",
          "11:40:00",
          "11:45:00",
          "11:50:00",
          "11:55:00",
          "12:00:00",
          "12:05:00",
          "12:10:00",
          "12:15:00",
          "12:20:00",
          "12:25:00",
          "12:30:00",
          "12:35:00",
          "12:40:00",
          "12:45:00",
          "12:50:00",
          "12:55:00",
          "13:00:00",
          "13:05:00",
          "13:10:00",
          "13:15:00",
          "13:20:00",
          "13:25:00",
          "13:30:00",
          "13:35:00",
          "13:40:00",
          "13:45:00",
          "13:50:00",
          "13:55:00",
          "14:00:00",
          "14:05:00",
          "14:10:00",
          "14:15:00",
          "14:20:00",
          "14:25:00",
          "14:30:00",
          "14:35:00",
          "14:40:00",
          "14:45:00",
          "14:50:00",
          "14:55:00",
          "15:00:00",
          "15:05:00",
          "15:10:00",
          "15:15:00",
          "15:20:00",
          "15:25:00",
          "15:30:00",
          "15:35:00",
          "15:40:00",
          "15:45:00",
          "15:50:00"
         ],
         "y": [
          0.03068967878499457,
          0.02708275205423402,
          0.025727705737962094,
          0.021577044428661398,
          0.020236036704567476,
          0.021766042624830218,
          0.020049040533717956,
          0.01945757368025334,
          0.019173090765369695,
          0.017034454286770796,
          0.01810477460024915,
          0.01700274564503551,
          0.015763624662297287,
          0.015661817534885887,
          0.015844251295967463,
          0.01570975786758479,
          0.014295584928680364,
          0.013598281420703575,
          0.012457114250472696,
          0.011987964137990081,
          0.013461725460403936,
          0.012595798556883253,
          0.011797714410616887,
          0.014308662845930496,
          0.013030028931877201,
          0.01374548123459632,
          0.01303221672306653,
          0.012282292643985332,
          0.012717538892908532,
          0.013521358427722174,
          0.012980495258773067,
          0.012901579794145685,
          0.010466755027812717,
          0.011107477436336052,
          0.011157892170423758,
          0.01216304900125326,
          0.010635683079383463,
          0.009097781578884806,
          0.009601288823649709,
          0.009005309451822242,
          0.00876634660573082,
          0.008607159054865204,
          0.009380962009639724,
          0.008435707772019818,
          0.00838026674424872,
          0.00945780751171534,
          0.008454182453174145,
          0.009889343750834221,
          0.008696415840097359,
          0.008247936692112458,
          0.009574334726667941,
          0.008863923578901816,
          0.008094713817953701,
          0.009910400046822341,
          0.009679019632785927,
          0.009523750149499065,
          0.009484670318040978,
          0.008821726065384993,
          0.008963962215230529,
          0.01019633299701148,
          0.009264350934665795,
          0.00954702714377349,
          0.008562685644060696,
          0.00903137293414712,
          0.010233111454719704,
          0.010403151978472117,
          0.010730259137614027,
          0.010455570860917637,
          0.011072672342927177,
          0.011290915394635049,
          0.011440255231350543,
          0.013198766971500887,
          0.013656494075255524,
          0.015345817051733273,
          0.01822714760175179,
          0.03328197356403481
         ]
        }
       ],
       "layout": {
        "legend": {
         "title": {
          "text": "Time Period"
         },
         "tracegroupgap": 0
        },
        "margin": {
         "t": 60
        },
        "template": {
         "data": {
          "bar": [
           {
            "error_x": {
             "color": "#2a3f5f"
            },
            "error_y": {
             "color": "#2a3f5f"
            },
            "marker": {
             "line": {
              "color": "#E5ECF6",
              "width": 0.5
             },
             "pattern": {
              "fillmode": "overlay",
              "size": 10,
              "solidity": 0.2
             }
            },
            "type": "bar"
           }
          ],
          "barpolar": [
           {
            "marker": {
             "line": {
              "color": "#E5ECF6",
              "width": 0.5
             },
             "pattern": {
              "fillmode": "overlay",
              "size": 10,
              "solidity": 0.2
             }
            },
            "type": "barpolar"
           }
          ],
          "carpet": [
           {
            "aaxis": {
             "endlinecolor": "#2a3f5f",
             "gridcolor": "white",
             "linecolor": "white",
             "minorgridcolor": "white",
             "startlinecolor": "#2a3f5f"
            },
            "baxis": {
             "endlinecolor": "#2a3f5f",
             "gridcolor": "white",
             "linecolor": "white",
             "minorgridcolor": "white",
             "startlinecolor": "#2a3f5f"
            },
            "type": "carpet"
           }
          ],
          "choropleth": [
           {
            "colorbar": {
             "outlinewidth": 0,
             "ticks": ""
            },
            "type": "choropleth"
           }
          ],
          "contour": [
           {
            "colorbar": {
             "outlinewidth": 0,
             "ticks": ""
            },
            "colorscale": [
             [
              0,
              "#0d0887"
             ],
             [
              0.1111111111111111,
              "#46039f"
             ],
             [
              0.2222222222222222,
              "#7201a8"
             ],
             [
              0.3333333333333333,
              "#9c179e"
             ],
             [
              0.4444444444444444,
              "#bd3786"
             ],
             [
              0.5555555555555556,
              "#d8576b"
             ],
             [
              0.6666666666666666,
              "#ed7953"
             ],
             [
              0.7777777777777778,
              "#fb9f3a"
             ],
             [
              0.8888888888888888,
              "#fdca26"
             ],
             [
              1,
              "#f0f921"
             ]
            ],
            "type": "contour"
           }
          ],
          "contourcarpet": [
           {
            "colorbar": {
             "outlinewidth": 0,
             "ticks": ""
            },
            "type": "contourcarpet"
           }
          ],
          "heatmap": [
           {
            "colorbar": {
             "outlinewidth": 0,
             "ticks": ""
            },
            "colorscale": [
             [
              0,
              "#0d0887"
             ],
             [
              0.1111111111111111,
              "#46039f"
             ],
             [
              0.2222222222222222,
              "#7201a8"
             ],
             [
              0.3333333333333333,
              "#9c179e"
             ],
             [
              0.4444444444444444,
              "#bd3786"
             ],
             [
              0.5555555555555556,
              "#d8576b"
             ],
             [
              0.6666666666666666,
              "#ed7953"
             ],
             [
              0.7777777777777778,
              "#fb9f3a"
             ],
             [
              0.8888888888888888,
              "#fdca26"
             ],
             [
              1,
              "#f0f921"
             ]
            ],
            "type": "heatmap"
           }
          ],
          "heatmapgl": [
           {
            "colorbar": {
             "outlinewidth": 0,
             "ticks": ""
            },
            "colorscale": [
             [
              0,
              "#0d0887"
             ],
             [
              0.1111111111111111,
              "#46039f"
             ],
             [
              0.2222222222222222,
              "#7201a8"
             ],
             [
              0.3333333333333333,
              "#9c179e"
             ],
             [
              0.4444444444444444,
              "#bd3786"
             ],
             [
              0.5555555555555556,
              "#d8576b"
             ],
             [
              0.6666666666666666,
              "#ed7953"
             ],
             [
              0.7777777777777778,
              "#fb9f3a"
             ],
             [
              0.8888888888888888,
              "#fdca26"
             ],
             [
              1,
              "#f0f921"
             ]
            ],
            "type": "heatmapgl"
           }
          ],
          "histogram": [
           {
            "marker": {
             "pattern": {
              "fillmode": "overlay",
              "size": 10,
              "solidity": 0.2
             }
            },
            "type": "histogram"
           }
          ],
          "histogram2d": [
           {
            "colorbar": {
             "outlinewidth": 0,
             "ticks": ""
            },
            "colorscale": [
             [
              0,
              "#0d0887"
             ],
             [
              0.1111111111111111,
              "#46039f"
             ],
             [
              0.2222222222222222,
              "#7201a8"
             ],
             [
              0.3333333333333333,
              "#9c179e"
             ],
             [
              0.4444444444444444,
              "#bd3786"
             ],
             [
              0.5555555555555556,
              "#d8576b"
             ],
             [
              0.6666666666666666,
              "#ed7953"
             ],
             [
              0.7777777777777778,
              "#fb9f3a"
             ],
             [
              0.8888888888888888,
              "#fdca26"
             ],
             [
              1,
              "#f0f921"
             ]
            ],
            "type": "histogram2d"
           }
          ],
          "histogram2dcontour": [
           {
            "colorbar": {
             "outlinewidth": 0,
             "ticks": ""
            },
            "colorscale": [
             [
              0,
              "#0d0887"
             ],
             [
              0.1111111111111111,
              "#46039f"
             ],
             [
              0.2222222222222222,
              "#7201a8"
             ],
             [
              0.3333333333333333,
              "#9c179e"
             ],
             [
              0.4444444444444444,
              "#bd3786"
             ],
             [
              0.5555555555555556,
              "#d8576b"
             ],
             [
              0.6666666666666666,
              "#ed7953"
             ],
             [
              0.7777777777777778,
              "#fb9f3a"
             ],
             [
              0.8888888888888888,
              "#fdca26"
             ],
             [
              1,
              "#f0f921"
             ]
            ],
            "type": "histogram2dcontour"
           }
          ],
          "mesh3d": [
           {
            "colorbar": {
             "outlinewidth": 0,
             "ticks": ""
            },
            "type": "mesh3d"
           }
          ],
          "parcoords": [
           {
            "line": {
             "colorbar": {
              "outlinewidth": 0,
              "ticks": ""
             }
            },
            "type": "parcoords"
           }
          ],
          "pie": [
           {
            "automargin": true,
            "type": "pie"
           }
          ],
          "scatter": [
           {
            "fillpattern": {
             "fillmode": "overlay",
             "size": 10,
             "solidity": 0.2
            },
            "type": "scatter"
           }
          ],
          "scatter3d": [
           {
            "line": {
             "colorbar": {
              "outlinewidth": 0,
              "ticks": ""
             }
            },
            "marker": {
             "colorbar": {
              "outlinewidth": 0,
              "ticks": ""
             }
            },
            "type": "scatter3d"
           }
          ],
          "scattercarpet": [
           {
            "marker": {
             "colorbar": {
              "outlinewidth": 0,
              "ticks": ""
             }
            },
            "type": "scattercarpet"
           }
          ],
          "scattergeo": [
           {
            "marker": {
             "colorbar": {
              "outlinewidth": 0,
              "ticks": ""
             }
            },
            "type": "scattergeo"
           }
          ],
          "scattergl": [
           {
            "marker": {
             "colorbar": {
              "outlinewidth": 0,
              "ticks": ""
             }
            },
            "type": "scattergl"
           }
          ],
          "scattermapbox": [
           {
            "marker": {
             "colorbar": {
              "outlinewidth": 0,
              "ticks": ""
             }
            },
            "type": "scattermapbox"
           }
          ],
          "scatterpolar": [
           {
            "marker": {
             "colorbar": {
              "outlinewidth": 0,
              "ticks": ""
             }
            },
            "type": "scatterpolar"
           }
          ],
          "scatterpolargl": [
           {
            "marker": {
             "colorbar": {
              "outlinewidth": 0,
              "ticks": ""
             }
            },
            "type": "scatterpolargl"
           }
          ],
          "scatterternary": [
           {
            "marker": {
             "colorbar": {
              "outlinewidth": 0,
              "ticks": ""
             }
            },
            "type": "scatterternary"
           }
          ],
          "surface": [
           {
            "colorbar": {
             "outlinewidth": 0,
             "ticks": ""
            },
            "colorscale": [
             [
              0,
              "#0d0887"
             ],
             [
              0.1111111111111111,
              "#46039f"
             ],
             [
              0.2222222222222222,
              "#7201a8"
             ],
             [
              0.3333333333333333,
              "#9c179e"
             ],
             [
              0.4444444444444444,
              "#bd3786"
             ],
             [
              0.5555555555555556,
              "#d8576b"
             ],
             [
              0.6666666666666666,
              "#ed7953"
             ],
             [
              0.7777777777777778,
              "#fb9f3a"
             ],
             [
              0.8888888888888888,
              "#fdca26"
             ],
             [
              1,
              "#f0f921"
             ]
            ],
            "type": "surface"
           }
          ],
          "table": [
           {
            "cells": {
             "fill": {
              "color": "#EBF0F8"
             },
             "line": {
              "color": "white"
             }
            },
            "header": {
             "fill": {
              "color": "#C8D4E3"
             },
             "line": {
              "color": "white"
             }
            },
            "type": "table"
           }
          ]
         },
         "layout": {
          "annotationdefaults": {
           "arrowcolor": "#2a3f5f",
           "arrowhead": 0,
           "arrowwidth": 1
          },
          "autotypenumbers": "strict",
          "coloraxis": {
           "colorbar": {
            "outlinewidth": 0,
            "ticks": ""
           }
          },
          "colorscale": {
           "diverging": [
            [
             0,
             "#8e0152"
            ],
            [
             0.1,
             "#c51b7d"
            ],
            [
             0.2,
             "#de77ae"
            ],
            [
             0.3,
             "#f1b6da"
            ],
            [
             0.4,
             "#fde0ef"
            ],
            [
             0.5,
             "#f7f7f7"
            ],
            [
             0.6,
             "#e6f5d0"
            ],
            [
             0.7,
             "#b8e186"
            ],
            [
             0.8,
             "#7fbc41"
            ],
            [
             0.9,
             "#4d9221"
            ],
            [
             1,
             "#276419"
            ]
           ],
           "sequential": [
            [
             0,
             "#0d0887"
            ],
            [
             0.1111111111111111,
             "#46039f"
            ],
            [
             0.2222222222222222,
             "#7201a8"
            ],
            [
             0.3333333333333333,
             "#9c179e"
            ],
            [
             0.4444444444444444,
             "#bd3786"
            ],
            [
             0.5555555555555556,
             "#d8576b"
            ],
            [
             0.6666666666666666,
             "#ed7953"
            ],
            [
             0.7777777777777778,
             "#fb9f3a"
            ],
            [
             0.8888888888888888,
             "#fdca26"
            ],
            [
             1,
             "#f0f921"
            ]
           ],
           "sequentialminus": [
            [
             0,
             "#0d0887"
            ],
            [
             0.1111111111111111,
             "#46039f"
            ],
            [
             0.2222222222222222,
             "#7201a8"
            ],
            [
             0.3333333333333333,
             "#9c179e"
            ],
            [
             0.4444444444444444,
             "#bd3786"
            ],
            [
             0.5555555555555556,
             "#d8576b"
            ],
            [
             0.6666666666666666,
             "#ed7953"
            ],
            [
             0.7777777777777778,
             "#fb9f3a"
            ],
            [
             0.8888888888888888,
             "#fdca26"
            ],
            [
             1,
             "#f0f921"
            ]
           ]
          },
          "colorway": [
           "#636efa",
           "#EF553B",
           "#00cc96",
           "#ab63fa",
           "#FFA15A",
           "#19d3f3",
           "#FF6692",
           "#B6E880",
           "#FF97FF",
           "#FECB52"
          ],
          "font": {
           "color": "#2a3f5f"
          },
          "geo": {
           "bgcolor": "white",
           "lakecolor": "white",
           "landcolor": "#E5ECF6",
           "showlakes": true,
           "showland": true,
           "subunitcolor": "white"
          },
          "hoverlabel": {
           "align": "left"
          },
          "hovermode": "closest",
          "mapbox": {
           "style": "light"
          },
          "paper_bgcolor": "white",
          "plot_bgcolor": "#E5ECF6",
          "polar": {
           "angularaxis": {
            "gridcolor": "white",
            "linecolor": "white",
            "ticks": ""
           },
           "bgcolor": "#E5ECF6",
           "radialaxis": {
            "gridcolor": "white",
            "linecolor": "white",
            "ticks": ""
           }
          },
          "scene": {
           "xaxis": {
            "backgroundcolor": "#E5ECF6",
            "gridcolor": "white",
            "gridwidth": 2,
            "linecolor": "white",
            "showbackground": true,
            "ticks": "",
            "zerolinecolor": "white"
           },
           "yaxis": {
            "backgroundcolor": "#E5ECF6",
            "gridcolor": "white",
            "gridwidth": 2,
            "linecolor": "white",
            "showbackground": true,
            "ticks": "",
            "zerolinecolor": "white"
           },
           "zaxis": {
            "backgroundcolor": "#E5ECF6",
            "gridcolor": "white",
            "gridwidth": 2,
            "linecolor": "white",
            "showbackground": true,
            "ticks": "",
            "zerolinecolor": "white"
           }
          },
          "shapedefaults": {
           "line": {
            "color": "#2a3f5f"
           }
          },
          "ternary": {
           "aaxis": {
            "gridcolor": "white",
            "linecolor": "white",
            "ticks": ""
           },
           "baxis": {
            "gridcolor": "white",
            "linecolor": "white",
            "ticks": ""
           },
           "bgcolor": "#E5ECF6",
           "caxis": {
            "gridcolor": "white",
            "linecolor": "white",
            "ticks": ""
           }
          },
          "title": {
           "x": 0.05
          },
          "xaxis": {
           "automargin": true,
           "gridcolor": "white",
           "linecolor": "white",
           "ticks": "",
           "title": {
            "standoff": 15
           },
           "zerolinecolor": "white",
           "zerolinewidth": 2
          },
          "yaxis": {
           "automargin": true,
           "gridcolor": "white",
           "linecolor": "white",
           "ticks": "",
           "title": {
            "standoff": 15
           },
           "zerolinecolor": "white",
           "zerolinewidth": 2
          }
         }
        },
        "xaxis": {
         "anchor": "y",
         "domain": [
          0,
          1
         ],
         "title": {
          "text": "Time"
         }
        },
        "yaxis": {
         "anchor": "x",
         "domain": [
          0,
          1
         ],
         "title": {
          "text": "Volume"
         }
        }
       }
      }
     },
     "metadata": {},
     "output_type": "display_data"
    }
   ],
   "source": [
    "# Plot volume pattern for full sample percent of full sample total volume\n",
    "\n",
    "fig = px.line(x=data.daysTime.unique(), y=[0]*data.daysTime.unique().__len__(), color=px.Constant(\"\"),\n",
    "             labels=dict(x=\"Time\", y=\"Volume\", color=\"Time Period\"))\n",
    "fig.add_bar(x=data.daysTime.unique(), y=percvol, name=\"Percent volume\")\n",
    "fig.show()"
   ]
  },
  {
   "cell_type": "code",
   "execution_count": 18,
   "metadata": {},
   "outputs": [],
   "source": [
    "# Average volume in moving window\n",
    "rol_avgvol = data.groupby(['daysTime']).rolling(20).Volume.mean()\n",
    "rol_vol = data.groupby(['daysTime']).rolling(20).Volume.sum()"
   ]
  },
  {
   "cell_type": "code",
   "execution_count": 17,
   "metadata": {},
   "outputs": [
    {
     "data": {
      "text/html": [
       "<div>\n",
       "<style scoped>\n",
       "    .dataframe tbody tr th:only-of-type {\n",
       "        vertical-align: middle;\n",
       "    }\n",
       "\n",
       "    .dataframe tbody tr th {\n",
       "        vertical-align: top;\n",
       "    }\n",
       "\n",
       "    .dataframe thead th {\n",
       "        text-align: right;\n",
       "    }\n",
       "</style>\n",
       "<table border=\"1\" class=\"dataframe\">\n",
       "  <thead>\n",
       "    <tr style=\"text-align: right;\">\n",
       "      <th>Datetime</th>\n",
       "      <th>2023-07-06</th>\n",
       "      <th>2023-07-07</th>\n",
       "      <th>2023-07-10</th>\n",
       "      <th>2023-07-11</th>\n",
       "      <th>2023-07-12</th>\n",
       "      <th>2023-07-13</th>\n",
       "      <th>2023-07-14</th>\n",
       "      <th>2023-07-17</th>\n",
       "      <th>2023-07-18</th>\n",
       "      <th>2023-07-19</th>\n",
       "      <th>...</th>\n",
       "      <th>2023-08-02</th>\n",
       "      <th>2023-08-03</th>\n",
       "      <th>2023-08-04</th>\n",
       "      <th>2023-08-07</th>\n",
       "      <th>2023-08-08</th>\n",
       "      <th>2023-08-09</th>\n",
       "      <th>2023-08-10</th>\n",
       "      <th>2023-08-11</th>\n",
       "      <th>2023-08-14</th>\n",
       "      <th>2023-08-15</th>\n",
       "    </tr>\n",
       "    <tr>\n",
       "      <th>daysTime</th>\n",
       "      <th></th>\n",
       "      <th></th>\n",
       "      <th></th>\n",
       "      <th></th>\n",
       "      <th></th>\n",
       "      <th></th>\n",
       "      <th></th>\n",
       "      <th></th>\n",
       "      <th></th>\n",
       "      <th></th>\n",
       "      <th></th>\n",
       "      <th></th>\n",
       "      <th></th>\n",
       "      <th></th>\n",
       "      <th></th>\n",
       "      <th></th>\n",
       "      <th></th>\n",
       "      <th></th>\n",
       "      <th></th>\n",
       "      <th></th>\n",
       "      <th></th>\n",
       "    </tr>\n",
       "  </thead>\n",
       "  <tbody>\n",
       "    <tr>\n",
       "      <th>09:35:00</th>\n",
       "      <td>2.906388</td>\n",
       "      <td>2.912423</td>\n",
       "      <td>3.123124</td>\n",
       "      <td>3.106052</td>\n",
       "      <td>3.111201</td>\n",
       "      <td>3.293248</td>\n",
       "      <td>3.365076</td>\n",
       "      <td>3.413951</td>\n",
       "      <td>3.160181</td>\n",
       "      <td>3.188680</td>\n",
       "      <td>...</td>\n",
       "      <td>3.229987</td>\n",
       "      <td>3.211304</td>\n",
       "      <td>3.335328</td>\n",
       "      <td>3.279937</td>\n",
       "      <td>3.252003</td>\n",
       "      <td>3.206740</td>\n",
       "      <td>3.082039</td>\n",
       "      <td>3.008894</td>\n",
       "      <td>2.984794</td>\n",
       "      <td>3.224663</td>\n",
       "    </tr>\n",
       "    <tr>\n",
       "      <th>09:40:00</th>\n",
       "      <td>3.030384</td>\n",
       "      <td>3.023361</td>\n",
       "      <td>3.209928</td>\n",
       "      <td>3.147733</td>\n",
       "      <td>3.101556</td>\n",
       "      <td>3.173536</td>\n",
       "      <td>3.056822</td>\n",
       "      <td>3.111671</td>\n",
       "      <td>2.771301</td>\n",
       "      <td>2.717026</td>\n",
       "      <td>...</td>\n",
       "      <td>2.633700</td>\n",
       "      <td>2.549608</td>\n",
       "      <td>2.612059</td>\n",
       "      <td>2.527321</td>\n",
       "      <td>2.494528</td>\n",
       "      <td>2.455568</td>\n",
       "      <td>2.391491</td>\n",
       "      <td>2.384446</td>\n",
       "      <td>2.367011</td>\n",
       "      <td>2.551235</td>\n",
       "    </tr>\n",
       "    <tr>\n",
       "      <th>09:45:00</th>\n",
       "      <td>2.693520</td>\n",
       "      <td>2.718871</td>\n",
       "      <td>2.896432</td>\n",
       "      <td>2.846972</td>\n",
       "      <td>2.879472</td>\n",
       "      <td>2.911595</td>\n",
       "      <td>2.851409</td>\n",
       "      <td>2.983094</td>\n",
       "      <td>2.570406</td>\n",
       "      <td>2.549870</td>\n",
       "      <td>...</td>\n",
       "      <td>2.580050</td>\n",
       "      <td>2.537165</td>\n",
       "      <td>2.575664</td>\n",
       "      <td>2.492496</td>\n",
       "      <td>2.504848</td>\n",
       "      <td>2.395247</td>\n",
       "      <td>2.379117</td>\n",
       "      <td>2.377360</td>\n",
       "      <td>2.299994</td>\n",
       "      <td>2.500216</td>\n",
       "    </tr>\n",
       "    <tr>\n",
       "      <th>09:50:00</th>\n",
       "      <td>2.148882</td>\n",
       "      <td>2.148952</td>\n",
       "      <td>2.282173</td>\n",
       "      <td>2.296783</td>\n",
       "      <td>2.274831</td>\n",
       "      <td>2.257817</td>\n",
       "      <td>2.245858</td>\n",
       "      <td>2.326298</td>\n",
       "      <td>2.127249</td>\n",
       "      <td>2.065052</td>\n",
       "      <td>...</td>\n",
       "      <td>2.111426</td>\n",
       "      <td>2.135053</td>\n",
       "      <td>2.158801</td>\n",
       "      <td>2.100546</td>\n",
       "      <td>2.086326</td>\n",
       "      <td>2.050623</td>\n",
       "      <td>2.064921</td>\n",
       "      <td>2.060700</td>\n",
       "      <td>2.004826</td>\n",
       "      <td>2.187339</td>\n",
       "    </tr>\n",
       "    <tr>\n",
       "      <th>09:55:00</th>\n",
       "      <td>2.006750</td>\n",
       "      <td>2.016328</td>\n",
       "      <td>2.100547</td>\n",
       "      <td>2.090712</td>\n",
       "      <td>2.071486</td>\n",
       "      <td>2.062828</td>\n",
       "      <td>2.051249</td>\n",
       "      <td>2.145857</td>\n",
       "      <td>1.956930</td>\n",
       "      <td>1.905786</td>\n",
       "      <td>...</td>\n",
       "      <td>1.971555</td>\n",
       "      <td>2.002011</td>\n",
       "      <td>2.029841</td>\n",
       "      <td>1.980777</td>\n",
       "      <td>1.968868</td>\n",
       "      <td>1.921432</td>\n",
       "      <td>1.951655</td>\n",
       "      <td>1.930143</td>\n",
       "      <td>1.876294</td>\n",
       "      <td>2.060493</td>\n",
       "    </tr>\n",
       "    <tr>\n",
       "      <th>...</th>\n",
       "      <td>...</td>\n",
       "      <td>...</td>\n",
       "      <td>...</td>\n",
       "      <td>...</td>\n",
       "      <td>...</td>\n",
       "      <td>...</td>\n",
       "      <td>...</td>\n",
       "      <td>...</td>\n",
       "      <td>...</td>\n",
       "      <td>...</td>\n",
       "      <td>...</td>\n",
       "      <td>...</td>\n",
       "      <td>...</td>\n",
       "      <td>...</td>\n",
       "      <td>...</td>\n",
       "      <td>...</td>\n",
       "      <td>...</td>\n",
       "      <td>...</td>\n",
       "      <td>...</td>\n",
       "      <td>...</td>\n",
       "      <td>...</td>\n",
       "    </tr>\n",
       "    <tr>\n",
       "      <th>15:30:00</th>\n",
       "      <td>1.262727</td>\n",
       "      <td>1.274653</td>\n",
       "      <td>1.266005</td>\n",
       "      <td>1.281368</td>\n",
       "      <td>1.283588</td>\n",
       "      <td>1.285549</td>\n",
       "      <td>1.249014</td>\n",
       "      <td>1.256753</td>\n",
       "      <td>1.353615</td>\n",
       "      <td>1.325846</td>\n",
       "      <td>...</td>\n",
       "      <td>1.356703</td>\n",
       "      <td>1.369949</td>\n",
       "      <td>1.355293</td>\n",
       "      <td>1.364271</td>\n",
       "      <td>1.363948</td>\n",
       "      <td>1.367685</td>\n",
       "      <td>1.347794</td>\n",
       "      <td>1.368915</td>\n",
       "      <td>1.362222</td>\n",
       "      <td>1.330217</td>\n",
       "    </tr>\n",
       "    <tr>\n",
       "      <th>15:35:00</th>\n",
       "      <td>1.404329</td>\n",
       "      <td>1.432944</td>\n",
       "      <td>1.407500</td>\n",
       "      <td>1.406492</td>\n",
       "      <td>1.396256</td>\n",
       "      <td>1.380353</td>\n",
       "      <td>1.378130</td>\n",
       "      <td>1.387082</td>\n",
       "      <td>1.384711</td>\n",
       "      <td>1.364488</td>\n",
       "      <td>...</td>\n",
       "      <td>1.374969</td>\n",
       "      <td>1.387926</td>\n",
       "      <td>1.365458</td>\n",
       "      <td>1.363401</td>\n",
       "      <td>1.367407</td>\n",
       "      <td>1.369242</td>\n",
       "      <td>1.352911</td>\n",
       "      <td>1.356929</td>\n",
       "      <td>1.356793</td>\n",
       "      <td>1.311582</td>\n",
       "    </tr>\n",
       "    <tr>\n",
       "      <th>15:40:00</th>\n",
       "      <td>1.459081</td>\n",
       "      <td>1.459672</td>\n",
       "      <td>1.407965</td>\n",
       "      <td>1.415452</td>\n",
       "      <td>1.406017</td>\n",
       "      <td>1.412580</td>\n",
       "      <td>1.399311</td>\n",
       "      <td>1.416877</td>\n",
       "      <td>1.403829</td>\n",
       "      <td>1.348397</td>\n",
       "      <td>...</td>\n",
       "      <td>1.591225</td>\n",
       "      <td>1.613409</td>\n",
       "      <td>1.590396</td>\n",
       "      <td>1.595041</td>\n",
       "      <td>1.611505</td>\n",
       "      <td>1.643925</td>\n",
       "      <td>1.617158</td>\n",
       "      <td>1.643561</td>\n",
       "      <td>1.641363</td>\n",
       "      <td>1.675916</td>\n",
       "    </tr>\n",
       "    <tr>\n",
       "      <th>15:45:00</th>\n",
       "      <td>1.835484</td>\n",
       "      <td>1.884028</td>\n",
       "      <td>1.828738</td>\n",
       "      <td>1.860042</td>\n",
       "      <td>1.860441</td>\n",
       "      <td>1.862824</td>\n",
       "      <td>1.876737</td>\n",
       "      <td>1.855716</td>\n",
       "      <td>1.770230</td>\n",
       "      <td>1.729448</td>\n",
       "      <td>...</td>\n",
       "      <td>1.851430</td>\n",
       "      <td>1.855179</td>\n",
       "      <td>1.812618</td>\n",
       "      <td>1.813823</td>\n",
       "      <td>1.802145</td>\n",
       "      <td>1.837007</td>\n",
       "      <td>1.816570</td>\n",
       "      <td>1.823974</td>\n",
       "      <td>1.799538</td>\n",
       "      <td>1.850187</td>\n",
       "    </tr>\n",
       "    <tr>\n",
       "      <th>15:50:00</th>\n",
       "      <td>3.202539</td>\n",
       "      <td>3.247968</td>\n",
       "      <td>3.194724</td>\n",
       "      <td>3.192756</td>\n",
       "      <td>3.123975</td>\n",
       "      <td>3.074912</td>\n",
       "      <td>3.072373</td>\n",
       "      <td>3.074231</td>\n",
       "      <td>3.029818</td>\n",
       "      <td>2.880083</td>\n",
       "      <td>...</td>\n",
       "      <td>3.542499</td>\n",
       "      <td>3.555175</td>\n",
       "      <td>3.530077</td>\n",
       "      <td>3.561693</td>\n",
       "      <td>3.583655</td>\n",
       "      <td>3.665856</td>\n",
       "      <td>3.632959</td>\n",
       "      <td>3.665714</td>\n",
       "      <td>3.614714</td>\n",
       "      <td>3.732857</td>\n",
       "    </tr>\n",
       "  </tbody>\n",
       "</table>\n",
       "<p>76 rows × 29 columns</p>\n",
       "</div>"
      ],
      "text/plain": [
       "Datetime  2023-07-06  2023-07-07  2023-07-10  2023-07-11  2023-07-12  \\\n",
       "daysTime                                                               \n",
       "09:35:00    2.906388    2.912423    3.123124    3.106052    3.111201   \n",
       "09:40:00    3.030384    3.023361    3.209928    3.147733    3.101556   \n",
       "09:45:00    2.693520    2.718871    2.896432    2.846972    2.879472   \n",
       "09:50:00    2.148882    2.148952    2.282173    2.296783    2.274831   \n",
       "09:55:00    2.006750    2.016328    2.100547    2.090712    2.071486   \n",
       "...              ...         ...         ...         ...         ...   \n",
       "15:30:00    1.262727    1.274653    1.266005    1.281368    1.283588   \n",
       "15:35:00    1.404329    1.432944    1.407500    1.406492    1.396256   \n",
       "15:40:00    1.459081    1.459672    1.407965    1.415452    1.406017   \n",
       "15:45:00    1.835484    1.884028    1.828738    1.860042    1.860441   \n",
       "15:50:00    3.202539    3.247968    3.194724    3.192756    3.123975   \n",
       "\n",
       "Datetime  2023-07-13  2023-07-14  2023-07-17  2023-07-18  2023-07-19  ...  \\\n",
       "daysTime                                                              ...   \n",
       "09:35:00    3.293248    3.365076    3.413951    3.160181    3.188680  ...   \n",
       "09:40:00    3.173536    3.056822    3.111671    2.771301    2.717026  ...   \n",
       "09:45:00    2.911595    2.851409    2.983094    2.570406    2.549870  ...   \n",
       "09:50:00    2.257817    2.245858    2.326298    2.127249    2.065052  ...   \n",
       "09:55:00    2.062828    2.051249    2.145857    1.956930    1.905786  ...   \n",
       "...              ...         ...         ...         ...         ...  ...   \n",
       "15:30:00    1.285549    1.249014    1.256753    1.353615    1.325846  ...   \n",
       "15:35:00    1.380353    1.378130    1.387082    1.384711    1.364488  ...   \n",
       "15:40:00    1.412580    1.399311    1.416877    1.403829    1.348397  ...   \n",
       "15:45:00    1.862824    1.876737    1.855716    1.770230    1.729448  ...   \n",
       "15:50:00    3.074912    3.072373    3.074231    3.029818    2.880083  ...   \n",
       "\n",
       "Datetime  2023-08-02  2023-08-03  2023-08-04  2023-08-07  2023-08-08  \\\n",
       "daysTime                                                               \n",
       "09:35:00    3.229987    3.211304    3.335328    3.279937    3.252003   \n",
       "09:40:00    2.633700    2.549608    2.612059    2.527321    2.494528   \n",
       "09:45:00    2.580050    2.537165    2.575664    2.492496    2.504848   \n",
       "09:50:00    2.111426    2.135053    2.158801    2.100546    2.086326   \n",
       "09:55:00    1.971555    2.002011    2.029841    1.980777    1.968868   \n",
       "...              ...         ...         ...         ...         ...   \n",
       "15:30:00    1.356703    1.369949    1.355293    1.364271    1.363948   \n",
       "15:35:00    1.374969    1.387926    1.365458    1.363401    1.367407   \n",
       "15:40:00    1.591225    1.613409    1.590396    1.595041    1.611505   \n",
       "15:45:00    1.851430    1.855179    1.812618    1.813823    1.802145   \n",
       "15:50:00    3.542499    3.555175    3.530077    3.561693    3.583655   \n",
       "\n",
       "Datetime  2023-08-09  2023-08-10  2023-08-11  2023-08-14  2023-08-15  \n",
       "daysTime                                                              \n",
       "09:35:00    3.206740    3.082039    3.008894    2.984794    3.224663  \n",
       "09:40:00    2.455568    2.391491    2.384446    2.367011    2.551235  \n",
       "09:45:00    2.395247    2.379117    2.377360    2.299994    2.500216  \n",
       "09:50:00    2.050623    2.064921    2.060700    2.004826    2.187339  \n",
       "09:55:00    1.921432    1.951655    1.930143    1.876294    2.060493  \n",
       "...              ...         ...         ...         ...         ...  \n",
       "15:30:00    1.367685    1.347794    1.368915    1.362222    1.330217  \n",
       "15:35:00    1.369242    1.352911    1.356929    1.356793    1.311582  \n",
       "15:40:00    1.643925    1.617158    1.643561    1.641363    1.675916  \n",
       "15:45:00    1.837007    1.816570    1.823974    1.799538    1.850187  \n",
       "15:50:00    3.665856    3.632959    3.665714    3.614714    3.732857  \n",
       "\n",
       "[76 rows x 29 columns]"
      ]
     },
     "execution_count": 17,
     "metadata": {},
     "output_type": "execute_result"
    }
   ],
   "source": [
    "rol_vol = rol_vol.reset_index()\n",
    "rol_vol.Datetime = rol_vol.Datetime.apply(lambda x : x.date())\n",
    "cum_vol = rol_vol.groupby(['Datetime'])['Volume'].sum()\n",
    "rol_merge = pd.merge(rol_vol, cum_vol, left_on='Datetime',right_on='Datetime',how='left')\n",
    "rol_merge['perc_vol'] = 100 * rol_merge.Volume_x/rol_merge.Volume_y\n",
    "rol_perc = rol_merge.dropna().pivot(columns='Datetime', index='daysTime', values='perc_vol')\n",
    "rol_perc\n"
   ]
  },
  {
   "cell_type": "code",
   "execution_count": 11,
   "metadata": {},
   "outputs": [
    {
     "name": "stderr",
     "output_type": "stream",
     "text": [
      "C:\\Users\\jljuncos\\AppData\\Local\\Temp\\ipykernel_7392\\1381067003.py:7: FutureWarning:\n",
      "\n",
      "Indexing with multiple keys (implicitly converted to a tuple of keys) will be deprecated, use a list instead.\n",
      "\n"
     ]
    },
    {
     "data": {
      "text/html": [
       "<div>\n",
       "<style scoped>\n",
       "    .dataframe tbody tr th:only-of-type {\n",
       "        vertical-align: middle;\n",
       "    }\n",
       "\n",
       "    .dataframe tbody tr th {\n",
       "        vertical-align: top;\n",
       "    }\n",
       "\n",
       "    .dataframe thead th {\n",
       "        text-align: right;\n",
       "    }\n",
       "</style>\n",
       "<table border=\"1\" class=\"dataframe\">\n",
       "  <thead>\n",
       "    <tr style=\"text-align: right;\">\n",
       "      <th></th>\n",
       "      <th>typical_price_w</th>\n",
       "      <th>Volume</th>\n",
       "      <th>rol_VWAP_forecast</th>\n",
       "      <th>vwap</th>\n",
       "      <th>forecast/vwap</th>\n",
       "    </tr>\n",
       "    <tr>\n",
       "      <th>next_day</th>\n",
       "      <th></th>\n",
       "      <th></th>\n",
       "      <th></th>\n",
       "      <th></th>\n",
       "      <th></th>\n",
       "    </tr>\n",
       "  </thead>\n",
       "  <tbody>\n",
       "    <tr>\n",
       "      <th>2023-06-06</th>\n",
       "      <td>6.539034e+09</td>\n",
       "      <td>19597266.20</td>\n",
       "      <td>333.670712</td>\n",
       "      <td>333.636170</td>\n",
       "      <td>0.010353</td>\n",
       "    </tr>\n",
       "    <tr>\n",
       "      <th>2023-07-07</th>\n",
       "      <td>5.916757e+09</td>\n",
       "      <td>17416320.60</td>\n",
       "      <td>339.724834</td>\n",
       "      <td>339.710620</td>\n",
       "      <td>0.004184</td>\n",
       "    </tr>\n",
       "    <tr>\n",
       "      <th>2023-07-10</th>\n",
       "      <td>5.746430e+09</td>\n",
       "      <td>17383290.20</td>\n",
       "      <td>330.572059</td>\n",
       "      <td>330.486159</td>\n",
       "      <td>0.025992</td>\n",
       "    </tr>\n",
       "    <tr>\n",
       "      <th>2023-07-11</th>\n",
       "      <td>5.673940e+09</td>\n",
       "      <td>17175569.15</td>\n",
       "      <td>330.349462</td>\n",
       "      <td>330.338986</td>\n",
       "      <td>0.003171</td>\n",
       "    </tr>\n",
       "    <tr>\n",
       "      <th>2023-07-12</th>\n",
       "      <td>5.885189e+09</td>\n",
       "      <td>17394891.95</td>\n",
       "      <td>338.328585</td>\n",
       "      <td>338.402637</td>\n",
       "      <td>-0.021883</td>\n",
       "    </tr>\n",
       "    <tr>\n",
       "      <th>2023-07-13</th>\n",
       "      <td>6.024960e+09</td>\n",
       "      <td>17646103.45</td>\n",
       "      <td>341.432907</td>\n",
       "      <td>341.518288</td>\n",
       "      <td>-0.025001</td>\n",
       "    </tr>\n",
       "    <tr>\n",
       "      <th>2023-07-14</th>\n",
       "      <td>6.125756e+09</td>\n",
       "      <td>17622700.20</td>\n",
       "      <td>347.605959</td>\n",
       "      <td>347.912682</td>\n",
       "      <td>-0.088161</td>\n",
       "    </tr>\n",
       "    <tr>\n",
       "      <th>2023-07-17</th>\n",
       "      <td>6.162214e+09</td>\n",
       "      <td>17850439.45</td>\n",
       "      <td>345.213557</td>\n",
       "      <td>345.151704</td>\n",
       "      <td>0.017921</td>\n",
       "    </tr>\n",
       "    <tr>\n",
       "      <th>2023-07-18</th>\n",
       "      <td>6.225974e+09</td>\n",
       "      <td>17596479.35</td>\n",
       "      <td>353.819325</td>\n",
       "      <td>358.553546</td>\n",
       "      <td>-1.320366</td>\n",
       "    </tr>\n",
       "    <tr>\n",
       "      <th>2023-07-19</th>\n",
       "      <td>6.738198e+09</td>\n",
       "      <td>18869805.65</td>\n",
       "      <td>357.088903</td>\n",
       "      <td>356.861868</td>\n",
       "      <td>0.063620</td>\n",
       "    </tr>\n",
       "    <tr>\n",
       "      <th>2023-07-20</th>\n",
       "      <td>6.768020e+09</td>\n",
       "      <td>19340795.10</td>\n",
       "      <td>349.934916</td>\n",
       "      <td>349.637914</td>\n",
       "      <td>0.084946</td>\n",
       "    </tr>\n",
       "    <tr>\n",
       "      <th>2023-07-21</th>\n",
       "      <td>6.809421e+09</td>\n",
       "      <td>19677387.00</td>\n",
       "      <td>346.053110</td>\n",
       "      <td>345.036202</td>\n",
       "      <td>0.294725</td>\n",
       "    </tr>\n",
       "    <tr>\n",
       "      <th>2023-07-24</th>\n",
       "      <td>7.035142e+09</td>\n",
       "      <td>20418736.75</td>\n",
       "      <td>344.543449</td>\n",
       "      <td>344.702921</td>\n",
       "      <td>-0.046264</td>\n",
       "    </tr>\n",
       "    <tr>\n",
       "      <th>2023-07-25</th>\n",
       "      <td>7.164107e+09</td>\n",
       "      <td>20534783.80</td>\n",
       "      <td>348.876661</td>\n",
       "      <td>349.147406</td>\n",
       "      <td>-0.077545</td>\n",
       "    </tr>\n",
       "    <tr>\n",
       "      <th>2023-07-26</th>\n",
       "      <td>7.092434e+09</td>\n",
       "      <td>21067745.95</td>\n",
       "      <td>336.648907</td>\n",
       "      <td>336.748514</td>\n",
       "      <td>-0.029579</td>\n",
       "    </tr>\n",
       "    <tr>\n",
       "      <th>2023-07-27</th>\n",
       "      <td>7.597966e+09</td>\n",
       "      <td>22679033.80</td>\n",
       "      <td>335.021576</td>\n",
       "      <td>334.805537</td>\n",
       "      <td>0.064527</td>\n",
       "    </tr>\n",
       "    <tr>\n",
       "      <th>2023-07-28</th>\n",
       "      <td>7.916570e+09</td>\n",
       "      <td>23444825.85</td>\n",
       "      <td>337.668094</td>\n",
       "      <td>337.514545</td>\n",
       "      <td>0.045494</td>\n",
       "    </tr>\n",
       "    <tr>\n",
       "      <th>2023-07-31</th>\n",
       "      <td>7.963531e+09</td>\n",
       "      <td>23784656.45</td>\n",
       "      <td>334.817982</td>\n",
       "      <td>334.788416</td>\n",
       "      <td>0.008831</td>\n",
       "    </tr>\n",
       "    <tr>\n",
       "      <th>2023-08-01</th>\n",
       "      <td>8.112926e+09</td>\n",
       "      <td>24093585.95</td>\n",
       "      <td>336.725531</td>\n",
       "      <td>336.617770</td>\n",
       "      <td>0.032013</td>\n",
       "    </tr>\n",
       "    <tr>\n",
       "      <th>2023-08-02</th>\n",
       "      <td>7.892341e+09</td>\n",
       "      <td>23981430.15</td>\n",
       "      <td>329.102170</td>\n",
       "      <td>328.967457</td>\n",
       "      <td>0.040950</td>\n",
       "    </tr>\n",
       "    <tr>\n",
       "      <th>2023-08-03</th>\n",
       "      <td>8.008720e+09</td>\n",
       "      <td>24413587.25</td>\n",
       "      <td>328.043551</td>\n",
       "      <td>328.030408</td>\n",
       "      <td>0.004007</td>\n",
       "    </tr>\n",
       "    <tr>\n",
       "      <th>2023-08-04</th>\n",
       "      <td>7.962695e+09</td>\n",
       "      <td>24029386.50</td>\n",
       "      <td>331.373196</td>\n",
       "      <td>331.348615</td>\n",
       "      <td>0.007418</td>\n",
       "    </tr>\n",
       "    <tr>\n",
       "      <th>2023-08-07</th>\n",
       "      <td>7.972545e+09</td>\n",
       "      <td>24204306.65</td>\n",
       "      <td>329.385372</td>\n",
       "      <td>329.324034</td>\n",
       "      <td>0.018625</td>\n",
       "    </tr>\n",
       "    <tr>\n",
       "      <th>2023-08-08</th>\n",
       "      <td>7.647591e+09</td>\n",
       "      <td>23543569.40</td>\n",
       "      <td>324.827171</td>\n",
       "      <td>324.745513</td>\n",
       "      <td>0.025145</td>\n",
       "    </tr>\n",
       "    <tr>\n",
       "      <th>2023-08-09</th>\n",
       "      <td>7.553073e+09</td>\n",
       "      <td>23310959.90</td>\n",
       "      <td>324.013795</td>\n",
       "      <td>323.774227</td>\n",
       "      <td>0.073992</td>\n",
       "    </tr>\n",
       "    <tr>\n",
       "      <th>2023-08-10</th>\n",
       "      <td>7.441741e+09</td>\n",
       "      <td>22955311.90</td>\n",
       "      <td>324.183849</td>\n",
       "      <td>324.166389</td>\n",
       "      <td>0.005386</td>\n",
       "    </tr>\n",
       "    <tr>\n",
       "      <th>2023-08-11</th>\n",
       "      <td>7.352173e+09</td>\n",
       "      <td>22919413.10</td>\n",
       "      <td>320.783643</td>\n",
       "      <td>320.814588</td>\n",
       "      <td>-0.009646</td>\n",
       "    </tr>\n",
       "    <tr>\n",
       "      <th>2023-08-14</th>\n",
       "      <td>7.275389e+09</td>\n",
       "      <td>22577475.25</td>\n",
       "      <td>322.241043</td>\n",
       "      <td>322.248183</td>\n",
       "      <td>-0.002216</td>\n",
       "    </tr>\n",
       "    <tr>\n",
       "      <th>2023-08-15</th>\n",
       "      <td>7.275951e+09</td>\n",
       "      <td>22502579.50</td>\n",
       "      <td>323.338513</td>\n",
       "      <td>323.326389</td>\n",
       "      <td>0.003750</td>\n",
       "    </tr>\n",
       "  </tbody>\n",
       "</table>\n",
       "</div>"
      ],
      "text/plain": [
       "            typical_price_w       Volume  rol_VWAP_forecast        vwap  \\\n",
       "next_day                                                                  \n",
       "2023-06-06     6.539034e+09  19597266.20         333.670712  333.636170   \n",
       "2023-07-07     5.916757e+09  17416320.60         339.724834  339.710620   \n",
       "2023-07-10     5.746430e+09  17383290.20         330.572059  330.486159   \n",
       "2023-07-11     5.673940e+09  17175569.15         330.349462  330.338986   \n",
       "2023-07-12     5.885189e+09  17394891.95         338.328585  338.402637   \n",
       "2023-07-13     6.024960e+09  17646103.45         341.432907  341.518288   \n",
       "2023-07-14     6.125756e+09  17622700.20         347.605959  347.912682   \n",
       "2023-07-17     6.162214e+09  17850439.45         345.213557  345.151704   \n",
       "2023-07-18     6.225974e+09  17596479.35         353.819325  358.553546   \n",
       "2023-07-19     6.738198e+09  18869805.65         357.088903  356.861868   \n",
       "2023-07-20     6.768020e+09  19340795.10         349.934916  349.637914   \n",
       "2023-07-21     6.809421e+09  19677387.00         346.053110  345.036202   \n",
       "2023-07-24     7.035142e+09  20418736.75         344.543449  344.702921   \n",
       "2023-07-25     7.164107e+09  20534783.80         348.876661  349.147406   \n",
       "2023-07-26     7.092434e+09  21067745.95         336.648907  336.748514   \n",
       "2023-07-27     7.597966e+09  22679033.80         335.021576  334.805537   \n",
       "2023-07-28     7.916570e+09  23444825.85         337.668094  337.514545   \n",
       "2023-07-31     7.963531e+09  23784656.45         334.817982  334.788416   \n",
       "2023-08-01     8.112926e+09  24093585.95         336.725531  336.617770   \n",
       "2023-08-02     7.892341e+09  23981430.15         329.102170  328.967457   \n",
       "2023-08-03     8.008720e+09  24413587.25         328.043551  328.030408   \n",
       "2023-08-04     7.962695e+09  24029386.50         331.373196  331.348615   \n",
       "2023-08-07     7.972545e+09  24204306.65         329.385372  329.324034   \n",
       "2023-08-08     7.647591e+09  23543569.40         324.827171  324.745513   \n",
       "2023-08-09     7.553073e+09  23310959.90         324.013795  323.774227   \n",
       "2023-08-10     7.441741e+09  22955311.90         324.183849  324.166389   \n",
       "2023-08-11     7.352173e+09  22919413.10         320.783643  320.814588   \n",
       "2023-08-14     7.275389e+09  22577475.25         322.241043  322.248183   \n",
       "2023-08-15     7.275951e+09  22502579.50         323.338513  323.326389   \n",
       "\n",
       "            forecast/vwap  \n",
       "next_day                   \n",
       "2023-06-06       0.010353  \n",
       "2023-07-07       0.004184  \n",
       "2023-07-10       0.025992  \n",
       "2023-07-11       0.003171  \n",
       "2023-07-12      -0.021883  \n",
       "2023-07-13      -0.025001  \n",
       "2023-07-14      -0.088161  \n",
       "2023-07-17       0.017921  \n",
       "2023-07-18      -1.320366  \n",
       "2023-07-19       0.063620  \n",
       "2023-07-20       0.084946  \n",
       "2023-07-21       0.294725  \n",
       "2023-07-24      -0.046264  \n",
       "2023-07-25      -0.077545  \n",
       "2023-07-26      -0.029579  \n",
       "2023-07-27       0.064527  \n",
       "2023-07-28       0.045494  \n",
       "2023-07-31       0.008831  \n",
       "2023-08-01       0.032013  \n",
       "2023-08-02       0.040950  \n",
       "2023-08-03       0.004007  \n",
       "2023-08-04       0.007418  \n",
       "2023-08-07       0.018625  \n",
       "2023-08-08       0.025145  \n",
       "2023-08-09       0.073992  \n",
       "2023-08-10       0.005386  \n",
       "2023-08-11      -0.009646  \n",
       "2023-08-14      -0.002216  \n",
       "2023-08-15       0.003750  "
      ]
     },
     "execution_count": 11,
     "metadata": {},
     "output_type": "execute_result"
    }
   ],
   "source": [
    "#rol_avgvol = rol_avgvol.dropna()\n",
    "rol_avgvol = rol_avgvol.reset_index()\n",
    "rol_avgvol['Datetime'] = rol_avgvol['Datetime'].apply(lambda x : x.date())\n",
    "rol_avgvol['next_day'] = rol_avgvol['Datetime'].shift(-1)\n",
    "rol_avgvol = pd.merge(rol_avgvol, data[['dates', 'daysTime', 'typical_price']], left_on=['next_day', 'daysTime'], right_on=['dates', 'daysTime'],how='left')\n",
    "rol_avgvol['typical_price_w'] = rol_avgvol['typical_price'] * rol_avgvol['Volume']\n",
    "rol_VWAP = rol_avgvol.groupby(['next_day'])['typical_price_w', 'Volume'].sum()\n",
    "rol_VWAP['rol_VWAP_forecast'] = rol_VWAP['typical_price_w'] / rol_VWAP['Volume']\n",
    "rol_VWAP = pd.merge(rol_VWAP,VWAP_d[['vwap']], left_index=True, right_index=True,how='inner')\n",
    "rol_VWAP['forecast/vwap'] = 100*(rol_VWAP['rol_VWAP_forecast'] / rol_VWAP['vwap'] - 1)\n",
    "rol_VWAP = rol_VWAP.dropna()\n",
    "rol_VWAP\n"
   ]
  },
  {
   "cell_type": "code",
   "execution_count": 12,
   "metadata": {},
   "outputs": [
    {
     "data": {
      "text/html": [
       "<div>\n",
       "<style scoped>\n",
       "    .dataframe tbody tr th:only-of-type {\n",
       "        vertical-align: middle;\n",
       "    }\n",
       "\n",
       "    .dataframe tbody tr th {\n",
       "        vertical-align: top;\n",
       "    }\n",
       "\n",
       "    .dataframe thead th {\n",
       "        text-align: right;\n",
       "    }\n",
       "</style>\n",
       "<table border=\"1\" class=\"dataframe\">\n",
       "  <thead>\n",
       "    <tr style=\"text-align: right;\">\n",
       "      <th>Datetime</th>\n",
       "      <th>2023-07-06</th>\n",
       "      <th>2023-07-07</th>\n",
       "      <th>2023-07-10</th>\n",
       "      <th>2023-07-11</th>\n",
       "      <th>2023-07-12</th>\n",
       "      <th>2023-07-13</th>\n",
       "      <th>2023-07-14</th>\n",
       "      <th>2023-07-17</th>\n",
       "      <th>2023-07-18</th>\n",
       "      <th>2023-07-19</th>\n",
       "      <th>...</th>\n",
       "      <th>2023-08-02</th>\n",
       "      <th>2023-08-03</th>\n",
       "      <th>2023-08-04</th>\n",
       "      <th>2023-08-07</th>\n",
       "      <th>2023-08-08</th>\n",
       "      <th>2023-08-09</th>\n",
       "      <th>2023-08-10</th>\n",
       "      <th>2023-08-11</th>\n",
       "      <th>2023-08-14</th>\n",
       "      <th>2023-08-15</th>\n",
       "    </tr>\n",
       "    <tr>\n",
       "      <th>daysTime</th>\n",
       "      <th></th>\n",
       "      <th></th>\n",
       "      <th></th>\n",
       "      <th></th>\n",
       "      <th></th>\n",
       "      <th></th>\n",
       "      <th></th>\n",
       "      <th></th>\n",
       "      <th></th>\n",
       "      <th></th>\n",
       "      <th></th>\n",
       "      <th></th>\n",
       "      <th></th>\n",
       "      <th></th>\n",
       "      <th></th>\n",
       "      <th></th>\n",
       "      <th></th>\n",
       "      <th></th>\n",
       "      <th></th>\n",
       "      <th></th>\n",
       "      <th></th>\n",
       "    </tr>\n",
       "  </thead>\n",
       "  <tbody>\n",
       "    <tr>\n",
       "      <th>09:35:00</th>\n",
       "      <td>506185.85</td>\n",
       "      <td>506275.00</td>\n",
       "      <td>536414.40</td>\n",
       "      <td>540294.45</td>\n",
       "      <td>549005.75</td>\n",
       "      <td>580359.20</td>\n",
       "      <td>600680.80</td>\n",
       "      <td>600735.10</td>\n",
       "      <td>596320.10</td>\n",
       "      <td>616716.10</td>\n",
       "      <td>...</td>\n",
       "      <td>788555.80</td>\n",
       "      <td>771656.60</td>\n",
       "      <td>807293.10</td>\n",
       "      <td>772214.25</td>\n",
       "      <td>758073.00</td>\n",
       "      <td>736117.20</td>\n",
       "      <td>706385.25</td>\n",
       "      <td>679332.30</td>\n",
       "      <td>671655.60</td>\n",
       "      <td>656450.15</td>\n",
       "    </tr>\n",
       "    <tr>\n",
       "      <th>09:40:00</th>\n",
       "      <td>527781.40</td>\n",
       "      <td>525559.65</td>\n",
       "      <td>551323.35</td>\n",
       "      <td>547544.70</td>\n",
       "      <td>547303.80</td>\n",
       "      <td>559262.80</td>\n",
       "      <td>545656.20</td>\n",
       "      <td>547544.55</td>\n",
       "      <td>522939.05</td>\n",
       "      <td>525494.45</td>\n",
       "      <td>...</td>\n",
       "      <td>642980.75</td>\n",
       "      <td>612655.20</td>\n",
       "      <td>632230.70</td>\n",
       "      <td>595021.55</td>\n",
       "      <td>581498.45</td>\n",
       "      <td>563683.35</td>\n",
       "      <td>548115.60</td>\n",
       "      <td>538347.75</td>\n",
       "      <td>532638.50</td>\n",
       "      <td>519359.15</td>\n",
       "    </tr>\n",
       "    <tr>\n",
       "      <th>09:45:00</th>\n",
       "      <td>469112.05</td>\n",
       "      <td>472629.15</td>\n",
       "      <td>497478.60</td>\n",
       "      <td>495227.75</td>\n",
       "      <td>508114.60</td>\n",
       "      <td>513101.65</td>\n",
       "      <td>508988.95</td>\n",
       "      <td>524919.55</td>\n",
       "      <td>485030.70</td>\n",
       "      <td>493165.20</td>\n",
       "      <td>...</td>\n",
       "      <td>629882.80</td>\n",
       "      <td>609665.10</td>\n",
       "      <td>623421.70</td>\n",
       "      <td>586822.60</td>\n",
       "      <td>583904.15</td>\n",
       "      <td>549836.50</td>\n",
       "      <td>545279.65</td>\n",
       "      <td>536747.90</td>\n",
       "      <td>517558.00</td>\n",
       "      <td>508973.20</td>\n",
       "    </tr>\n",
       "    <tr>\n",
       "      <th>09:50:00</th>\n",
       "      <td>374256.15</td>\n",
       "      <td>373558.60</td>\n",
       "      <td>391976.25</td>\n",
       "      <td>399523.00</td>\n",
       "      <td>401418.95</td>\n",
       "      <td>397888.25</td>\n",
       "      <td>400895.60</td>\n",
       "      <td>409346.50</td>\n",
       "      <td>401407.70</td>\n",
       "      <td>399397.40</td>\n",
       "      <td>...</td>\n",
       "      <td>515474.85</td>\n",
       "      <td>513040.20</td>\n",
       "      <td>522522.85</td>\n",
       "      <td>494543.50</td>\n",
       "      <td>486342.60</td>\n",
       "      <td>470726.80</td>\n",
       "      <td>473267.75</td>\n",
       "      <td>465254.05</td>\n",
       "      <td>451137.55</td>\n",
       "      <td>445280.30</td>\n",
       "    </tr>\n",
       "    <tr>\n",
       "      <th>09:55:00</th>\n",
       "      <td>349502.00</td>\n",
       "      <td>350504.15</td>\n",
       "      <td>360780.85</td>\n",
       "      <td>363677.05</td>\n",
       "      <td>365536.65</td>\n",
       "      <td>363526.05</td>\n",
       "      <td>366156.90</td>\n",
       "      <td>377595.30</td>\n",
       "      <td>369268.85</td>\n",
       "      <td>368594.10</td>\n",
       "      <td>...</td>\n",
       "      <td>481327.35</td>\n",
       "      <td>481070.85</td>\n",
       "      <td>491308.85</td>\n",
       "      <td>466345.70</td>\n",
       "      <td>458962.10</td>\n",
       "      <td>441070.75</td>\n",
       "      <td>447307.80</td>\n",
       "      <td>435777.50</td>\n",
       "      <td>422214.55</td>\n",
       "      <td>419458.15</td>\n",
       "    </tr>\n",
       "    <tr>\n",
       "      <th>...</th>\n",
       "      <td>...</td>\n",
       "      <td>...</td>\n",
       "      <td>...</td>\n",
       "      <td>...</td>\n",
       "      <td>...</td>\n",
       "      <td>...</td>\n",
       "      <td>...</td>\n",
       "      <td>...</td>\n",
       "      <td>...</td>\n",
       "      <td>...</td>\n",
       "      <td>...</td>\n",
       "      <td>...</td>\n",
       "      <td>...</td>\n",
       "      <td>...</td>\n",
       "      <td>...</td>\n",
       "      <td>...</td>\n",
       "      <td>...</td>\n",
       "      <td>...</td>\n",
       "      <td>...</td>\n",
       "      <td>...</td>\n",
       "      <td>...</td>\n",
       "    </tr>\n",
       "    <tr>\n",
       "      <th>15:30:00</th>\n",
       "      <td>219920.65</td>\n",
       "      <td>221576.70</td>\n",
       "      <td>217443.50</td>\n",
       "      <td>222892.55</td>\n",
       "      <td>226503.20</td>\n",
       "      <td>226548.50</td>\n",
       "      <td>222954.40</td>\n",
       "      <td>221144.30</td>\n",
       "      <td>255424.55</td>\n",
       "      <td>256429.25</td>\n",
       "      <td>...</td>\n",
       "      <td>331219.85</td>\n",
       "      <td>329190.45</td>\n",
       "      <td>328039.30</td>\n",
       "      <td>321198.15</td>\n",
       "      <td>317949.35</td>\n",
       "      <td>313956.25</td>\n",
       "      <td>308906.50</td>\n",
       "      <td>309066.45</td>\n",
       "      <td>306535.10</td>\n",
       "      <td>270794.55</td>\n",
       "    </tr>\n",
       "    <tr>\n",
       "      <th>15:35:00</th>\n",
       "      <td>244582.45</td>\n",
       "      <td>249092.75</td>\n",
       "      <td>241746.15</td>\n",
       "      <td>244657.75</td>\n",
       "      <td>246384.75</td>\n",
       "      <td>243255.45</td>\n",
       "      <td>246002.30</td>\n",
       "      <td>244077.65</td>\n",
       "      <td>261292.25</td>\n",
       "      <td>263902.75</td>\n",
       "      <td>...</td>\n",
       "      <td>335679.25</td>\n",
       "      <td>333510.15</td>\n",
       "      <td>330499.60</td>\n",
       "      <td>320993.20</td>\n",
       "      <td>318755.60</td>\n",
       "      <td>314313.80</td>\n",
       "      <td>310079.15</td>\n",
       "      <td>306360.35</td>\n",
       "      <td>305313.50</td>\n",
       "      <td>267001.05</td>\n",
       "    </tr>\n",
       "    <tr>\n",
       "      <th>15:40:00</th>\n",
       "      <td>254118.25</td>\n",
       "      <td>253739.00</td>\n",
       "      <td>241826.05</td>\n",
       "      <td>246216.35</td>\n",
       "      <td>248107.30</td>\n",
       "      <td>248934.80</td>\n",
       "      <td>249783.10</td>\n",
       "      <td>249320.45</td>\n",
       "      <td>264899.80</td>\n",
       "      <td>260790.70</td>\n",
       "      <td>...</td>\n",
       "      <td>388475.05</td>\n",
       "      <td>387692.30</td>\n",
       "      <td>384944.25</td>\n",
       "      <td>375529.65</td>\n",
       "      <td>375657.20</td>\n",
       "      <td>377368.10</td>\n",
       "      <td>370643.10</td>\n",
       "      <td>371074.65</td>\n",
       "      <td>369349.05</td>\n",
       "      <td>341169.15</td>\n",
       "    </tr>\n",
       "    <tr>\n",
       "      <th>15:45:00</th>\n",
       "      <td>319673.80</td>\n",
       "      <td>327506.00</td>\n",
       "      <td>314096.15</td>\n",
       "      <td>323552.35</td>\n",
       "      <td>328295.35</td>\n",
       "      <td>328279.85</td>\n",
       "      <td>335005.75</td>\n",
       "      <td>326540.75</td>\n",
       "      <td>334039.00</td>\n",
       "      <td>334489.05</td>\n",
       "      <td>...</td>\n",
       "      <td>452000.40</td>\n",
       "      <td>445788.10</td>\n",
       "      <td>438731.50</td>\n",
       "      <td>427038.70</td>\n",
       "      <td>420097.35</td>\n",
       "      <td>421690.80</td>\n",
       "      <td>416347.25</td>\n",
       "      <td>411807.20</td>\n",
       "      <td>404942.40</td>\n",
       "      <td>376645.70</td>\n",
       "    </tr>\n",
       "    <tr>\n",
       "      <th>15:50:00</th>\n",
       "      <td>557764.50</td>\n",
       "      <td>564603.65</td>\n",
       "      <td>548712.10</td>\n",
       "      <td>555376.40</td>\n",
       "      <td>551259.80</td>\n",
       "      <td>541882.60</td>\n",
       "      <td>548432.00</td>\n",
       "      <td>540956.45</td>\n",
       "      <td>571720.80</td>\n",
       "      <td>557030.95</td>\n",
       "      <td>...</td>\n",
       "      <td>864851.15</td>\n",
       "      <td>854286.80</td>\n",
       "      <td>854430.65</td>\n",
       "      <td>838549.65</td>\n",
       "      <td>835384.40</td>\n",
       "      <td>841508.70</td>\n",
       "      <td>832652.95</td>\n",
       "      <td>827625.70</td>\n",
       "      <td>813403.80</td>\n",
       "      <td>NaN</td>\n",
       "    </tr>\n",
       "  </tbody>\n",
       "</table>\n",
       "<p>76 rows × 29 columns</p>\n",
       "</div>"
      ],
      "text/plain": [
       "Datetime  2023-07-06  2023-07-07  2023-07-10  2023-07-11  2023-07-12  \\\n",
       "daysTime                                                               \n",
       "09:35:00   506185.85   506275.00   536414.40   540294.45   549005.75   \n",
       "09:40:00   527781.40   525559.65   551323.35   547544.70   547303.80   \n",
       "09:45:00   469112.05   472629.15   497478.60   495227.75   508114.60   \n",
       "09:50:00   374256.15   373558.60   391976.25   399523.00   401418.95   \n",
       "09:55:00   349502.00   350504.15   360780.85   363677.05   365536.65   \n",
       "...              ...         ...         ...         ...         ...   \n",
       "15:30:00   219920.65   221576.70   217443.50   222892.55   226503.20   \n",
       "15:35:00   244582.45   249092.75   241746.15   244657.75   246384.75   \n",
       "15:40:00   254118.25   253739.00   241826.05   246216.35   248107.30   \n",
       "15:45:00   319673.80   327506.00   314096.15   323552.35   328295.35   \n",
       "15:50:00   557764.50   564603.65   548712.10   555376.40   551259.80   \n",
       "\n",
       "Datetime  2023-07-13  2023-07-14  2023-07-17  2023-07-18  2023-07-19  ...  \\\n",
       "daysTime                                                              ...   \n",
       "09:35:00   580359.20   600680.80   600735.10   596320.10   616716.10  ...   \n",
       "09:40:00   559262.80   545656.20   547544.55   522939.05   525494.45  ...   \n",
       "09:45:00   513101.65   508988.95   524919.55   485030.70   493165.20  ...   \n",
       "09:50:00   397888.25   400895.60   409346.50   401407.70   399397.40  ...   \n",
       "09:55:00   363526.05   366156.90   377595.30   369268.85   368594.10  ...   \n",
       "...              ...         ...         ...         ...         ...  ...   \n",
       "15:30:00   226548.50   222954.40   221144.30   255424.55   256429.25  ...   \n",
       "15:35:00   243255.45   246002.30   244077.65   261292.25   263902.75  ...   \n",
       "15:40:00   248934.80   249783.10   249320.45   264899.80   260790.70  ...   \n",
       "15:45:00   328279.85   335005.75   326540.75   334039.00   334489.05  ...   \n",
       "15:50:00   541882.60   548432.00   540956.45   571720.80   557030.95  ...   \n",
       "\n",
       "Datetime  2023-08-02  2023-08-03  2023-08-04  2023-08-07  2023-08-08  \\\n",
       "daysTime                                                               \n",
       "09:35:00   788555.80   771656.60   807293.10   772214.25   758073.00   \n",
       "09:40:00   642980.75   612655.20   632230.70   595021.55   581498.45   \n",
       "09:45:00   629882.80   609665.10   623421.70   586822.60   583904.15   \n",
       "09:50:00   515474.85   513040.20   522522.85   494543.50   486342.60   \n",
       "09:55:00   481327.35   481070.85   491308.85   466345.70   458962.10   \n",
       "...              ...         ...         ...         ...         ...   \n",
       "15:30:00   331219.85   329190.45   328039.30   321198.15   317949.35   \n",
       "15:35:00   335679.25   333510.15   330499.60   320993.20   318755.60   \n",
       "15:40:00   388475.05   387692.30   384944.25   375529.65   375657.20   \n",
       "15:45:00   452000.40   445788.10   438731.50   427038.70   420097.35   \n",
       "15:50:00   864851.15   854286.80   854430.65   838549.65   835384.40   \n",
       "\n",
       "Datetime  2023-08-09  2023-08-10  2023-08-11  2023-08-14  2023-08-15  \n",
       "daysTime                                                              \n",
       "09:35:00   736117.20   706385.25   679332.30   671655.60   656450.15  \n",
       "09:40:00   563683.35   548115.60   538347.75   532638.50   519359.15  \n",
       "09:45:00   549836.50   545279.65   536747.90   517558.00   508973.20  \n",
       "09:50:00   470726.80   473267.75   465254.05   451137.55   445280.30  \n",
       "09:55:00   441070.75   447307.80   435777.50   422214.55   419458.15  \n",
       "...              ...         ...         ...         ...         ...  \n",
       "15:30:00   313956.25   308906.50   309066.45   306535.10   270794.55  \n",
       "15:35:00   314313.80   310079.15   306360.35   305313.50   267001.05  \n",
       "15:40:00   377368.10   370643.10   371074.65   369349.05   341169.15  \n",
       "15:45:00   421690.80   416347.25   411807.20   404942.40   376645.70  \n",
       "15:50:00   841508.70   832652.95   827625.70   813403.80         NaN  \n",
       "\n",
       "[76 rows x 29 columns]"
      ]
     },
     "execution_count": 12,
     "metadata": {},
     "output_type": "execute_result"
    }
   ],
   "source": [
    "pvt_rol_avgvol = rol_avgvol.dropna().pivot(columns='Datetime', index='daysTime', values='Volume')\n",
    "pvt_rol_avgvol"
   ]
  },
  {
   "cell_type": "code",
   "execution_count": 13,
   "metadata": {},
   "outputs": [
    {
     "data": {
      "application/vnd.plotly.v1+json": {
       "config": {
        "plotlyServerURL": "https://plot.ly"
       },
       "data": [
        {
         "type": "surface",
         "x": [
          "2023-06-06",
          "2023-06-07",
          "2023-06-08",
          "2023-06-09",
          "2023-06-12",
          "2023-06-13",
          "2023-06-14",
          "2023-06-15",
          "2023-06-16",
          "2023-06-20",
          "2023-06-21",
          "2023-06-22",
          "2023-06-23",
          "2023-06-26",
          "2023-06-27",
          "2023-06-28",
          "2023-06-29",
          "2023-06-30",
          "2023-07-05",
          "2023-07-06",
          "2023-07-07",
          "2023-07-10",
          "2023-07-11",
          "2023-07-12",
          "2023-07-13",
          "2023-07-14",
          "2023-07-17",
          "2023-07-18",
          "2023-07-19",
          "2023-07-20",
          "2023-07-21",
          "2023-07-24",
          "2023-07-25",
          "2023-07-26",
          "2023-07-27",
          "2023-07-28",
          "2023-07-31",
          "2023-08-01",
          "2023-08-02",
          "2023-08-03",
          "2023-08-04",
          "2023-08-07",
          "2023-08-08",
          "2023-08-09",
          "2023-08-10",
          "2023-08-11",
          "2023-08-14",
          "2023-08-15"
         ],
         "y": [
          "09:35:00",
          "09:40:00",
          "09:45:00",
          "09:50:00",
          "09:55:00",
          "10:00:00",
          "10:05:00",
          "10:10:00",
          "10:15:00",
          "10:20:00",
          "10:25:00",
          "10:30:00",
          "10:35:00",
          "10:40:00",
          "10:45:00",
          "10:50:00",
          "10:55:00",
          "11:00:00",
          "11:05:00",
          "11:10:00",
          "11:15:00",
          "11:20:00",
          "11:25:00",
          "11:30:00",
          "11:35:00",
          "11:40:00",
          "11:45:00",
          "11:50:00",
          "11:55:00",
          "12:00:00",
          "12:05:00",
          "12:10:00",
          "12:15:00",
          "12:20:00",
          "12:25:00",
          "12:30:00",
          "12:35:00",
          "12:40:00",
          "12:45:00",
          "12:50:00",
          "12:55:00",
          "13:00:00",
          "13:05:00",
          "13:10:00",
          "13:15:00",
          "13:20:00",
          "13:25:00",
          "13:30:00",
          "13:35:00",
          "13:40:00",
          "13:45:00",
          "13:50:00",
          "13:55:00",
          "14:00:00",
          "14:05:00",
          "14:10:00",
          "14:15:00",
          "14:20:00",
          "14:25:00",
          "14:30:00",
          "14:35:00",
          "14:40:00",
          "14:45:00",
          "14:50:00",
          "14:55:00",
          "15:00:00",
          "15:05:00",
          "15:10:00",
          "15:15:00",
          "15:20:00",
          "15:25:00",
          "15:30:00",
          "15:35:00",
          "15:40:00",
          "15:45:00",
          "15:50:00"
         ],
         "z": [
          [
           466229,
           389138,
           581200,
           593436,
           332704,
           492770,
           361210,
           638998,
           728537,
           572741,
           499755,
           494009,
           553654,
           316257,
           561090,
           330924,
           352891,
           548943,
           461882,
           847349,
           468012,
           991926,
           658801,
           767662,
           959773,
           899202,
           362296,
           550698,
           1136457,
           621125,
           604608,
           807358,
           582092,
           2260089,
           1159642,
           795941,
           411211,
           352506,
           534368,
           509365,
           1180742,
           290349,
           375976,
           328546,
           365134,
           358143,
           208762,
           246589
          ],
          [
           379464,
           480417,
           645726,
           589834,
           418140,
           823899,
           346274,
           983481,
           694782,
           569784,
           332001,
           497722,
           371128,
           272004,
           400316,
           297153,
           512236,
           427340,
           615280,
           898647,
           335029,
           995691,
           570153,
           585016,
           657320,
           551767,
           384041,
           491371,
           745890,
           591586,
           555085,
           525298,
           480854,
           1550660,
           784298,
           908609,
           472948,
           328133,
           447219,
           292136,
           726539,
           251508,
           299691,
           228714,
           345965,
           356410,
           269856,
           225784
          ],
          [
           294935,
           531646,
           510049,
           594569,
           296301,
           557057,
           297636,
           1274412,
           563484,
           385495,
           346942,
           503602,
           468957,
           183385,
           365426,
           227616,
           273982,
           627115,
           293977,
           785655,
           365277,
           1028635,
           465032,
           852306,
           396042,
           474803,
           616248,
           476635,
           726174,
           407632,
           685672,
           621297,
           740327,
           1240386,
           938970,
           748205,
           332568,
           271805,
           423987,
           381301,
           640409,
           296653,
           406663,
           170953,
           304905,
           304168,
           232450,
           304939
          ],
          [
           324532,
           577590,
           390021,
           532680,
           345583,
           321554,
           333427,
           567422,
           659593,
           258701,
           475926,
           329271,
           349727,
           288480,
           324985,
           229353,
           198030,
           303632,
           302719,
           371897,
           310581,
           945943,
           540956,
           570599,
           274969,
           381701,
           502445,
           408646,
           619387,
           427353,
           316402,
           542809,
           463098,
           993888,
           708436,
           674730,
           575380,
           274484,
           405793,
           323204,
           500234,
           386356,
           376938,
           258283,
           325788,
           221427,
           220115,
           291501
          ],
          [
           262992,
           584833,
           450455,
           496130,
           319143,
           419223,
           248582,
           507380,
           517787,
           448612,
           319572,
           328249,
           232807,
           235203,
           264982,
           295547,
           221455,
           268463,
           250909,
           317716,
           283035,
           790367,
           508379,
           533322,
           278931,
           471840,
           477350,
           340851,
           504292,
           392034,
           313073,
           446433,
           481327,
           990114,
           711107,
           528808,
           646607,
           345768,
           265193,
           312586,
           487795,
           291104,
           360707,
           175495,
           403672,
           241234,
           206091,
           285723
          ],
          [
           322155,
           872729,
           478308,
           444321,
           420850,
           315888,
           376331,
           446543,
           454905,
           302453,
           474794,
           418165,
           257201,
           267055,
           356316,
           252709,
           181138,
           303054,
           257781,
           435199,
           255023,
           921355,
           567759,
           414019,
           278810,
           601052,
           333254,
           322846,
           456063,
           334293,
           476287,
           407959,
           302638,
           1037390,
           1027233,
           628679,
           488325,
           336330,
           467890,
           336900,
           344703,
           285867,
           362913,
           194238,
           382423,
           574879,
           322753,
           404838
          ],
          [
           372593,
           505429,
           555214,
           298687,
           355352,
           458244,
           388228,
           924668,
           449013,
           290587,
           222769,
           456847,
           299005,
           248094,
           298260,
           281900,
           282173,
           237324,
           196578,
           405640,
           229134,
           523317,
           714624,
           439197,
           360263,
           424304,
           339089,
           245341,
           466754,
           449861,
           350493,
           370089,
           329255,
           1125320,
           665881,
           396056,
           511015,
           251627,
           478586,
           287483,
           470039,
           254394,
           201339,
           139259,
           268113,
           247568,
           455986,
           366127
          ],
          [
           426438,
           896012,
           277877,
           266411,
           325013,
           444067,
           355590,
           684185,
           401616,
           403663,
           264158,
           465864,
           314050,
           173541,
           336310,
           225191,
           253636,
           464173,
           200453,
           389831,
           223133,
           500789,
           396183,
           547596,
           251547,
           543043,
           210717,
           188800,
           553463,
           471291,
           360311,
           315287,
           412402,
           849145,
           496304,
           235496,
           474993,
           379341,
           739929,
           466262,
           330899,
           212985,
           231826,
           194555,
           231474,
           387099,
           295778,
           261203
          ],
          [
           222048,
           759201,
           315241,
           276582,
           258305,
           309444,
           181279,
           804497,
           314860,
           462542,
           293931,
           396412,
           154554,
           205867,
           202755,
           276471,
           180403,
           389991,
           253740,
           453541,
           266718,
           329954,
           393460,
           500692,
           213500,
           1359927,
           225750,
           353060,
           605311,
           383647,
           366381,
           390106,
           339609,
           1038021,
           437663,
           397786,
           311950,
           365747,
           317037,
           262128,
           258043,
           210873,
           716740,
           173308,
           202696,
           402477,
           239872,
           287814
          ],
          [
           205217,
           671976,
           243547,
           227783,
           251742,
           369272,
           231481,
           609550,
           502856,
           497561,
           177913,
           296099,
           148392,
           195949,
           259490,
           254970,
           209863,
           359273,
           238765,
           300390,
           209312,
           409921,
           362498,
           666486,
           204450,
           982351,
           172091,
           241017,
           291615,
           521036,
           368108,
           317419,
           443974,
           875945,
           575063,
           312512,
           247783,
           258952,
           280130,
           245838,
           248024,
           192583,
           352887,
           169298,
           166197,
           287685,
           194198,
           197778
          ],
          [
           176055,
           544950,
           184511,
           268108,
           218712,
           241295,
           368898,
           538347,
           554809,
           497669,
           276485,
           333113,
           180426,
           193105,
           214699,
           174657,
           182131,
           259715,
           283588,
           598295,
           285189,
           424360,
           269932,
           413383,
           205665,
           589703,
           172668,
           198937,
           356520,
           806332,
           392411,
           281188,
           273184,
           1557632,
           900142,
           365075,
           266115,
           377239,
           343372,
           336703,
           228358,
           189809,
           543061,
           201261,
           210918,
           174257,
           234715,
           167834
          ],
          [
           211048,
           384946,
           313967,
           355368,
           179498,
           226556,
           227386,
           436683,
           308155,
           555952,
           256698,
           245992,
           193324,
           210157,
           234020,
           355025,
           270164,
           308892,
           271332,
           767207,
           407143,
           325844,
           481428,
           340088,
           177332,
           481570,
           160247,
           209571,
           403995,
           474537,
           354243,
           418569,
           358217,
           1042039,
           620806,
           407682,
           296819,
           519546,
           292910,
           232855,
           344107,
           170133,
           281530,
           161779,
           180091,
           195529,
           173683,
           192706
          ],
          [
           329178,
           744570,
           296092,
           282412,
           193050,
           279818,
           184578,
           388622,
           280443,
           611193,
           293667,
           226193,
           193726,
           153355,
           210913,
           256925,
           211306,
           266731,
           352745,
           371343,
           287350,
           452611,
           423541,
           396982,
           177939,
           435813,
           277910,
           225947,
           425835,
           434071,
           374963,
           267908,
           199053,
           947507,
           480384,
           356875,
           242065,
           233262,
           278581,
           239734,
           214393,
           156087,
           214819,
           155864,
           203359,
           205185,
           269988,
           145174
          ],
          [
           221378,
           645170,
           369017,
           424364,
           164206,
           185561,
           222361,
           591089,
           356557,
           376599,
           304144,
           450561,
           411146,
           276974,
           272107,
           183371,
           232244,
           212802,
           222994,
           387699,
           185776,
           388723,
           238432,
           465569,
           273870,
           309039,
           113818,
           222609,
           480785,
           661807,
           274412,
           302273,
           206557,
           687329,
           430276,
           365519,
           172920,
           545668,
           219205,
           197957,
           208119,
           178621,
           232003,
           115559,
           208613,
           204275,
           238186,
           115889
          ],
          [
           412519,
           551310,
           178038,
           378357,
           260611,
           203458,
           214778,
           879406,
           406894,
           239432,
           247663,
           225350,
           306656,
           169516,
           252550,
           246811,
           229718,
           274372,
           166844,
           319563,
           228633,
           344109,
           277782,
           293169,
           253794,
           356924,
           191645,
           226838,
           441886,
           482218,
           308619,
           249845,
           249649,
           1229039,
           659387,
           272990,
           320812,
           306198,
           208113,
           186908,
           195374,
           133428,
           275832,
           135010,
           378865,
           161479,
           228990,
           164632
          ],
          [
           291032,
           615883,
           165698,
           205791,
           245560,
           224674,
           261807,
           543971,
           232836,
           286959,
           348872,
           247499,
           273147,
           194725,
           198947,
           236940,
           138680,
           218985,
           269357,
           270948,
           245673,
           290210,
           220601,
           364869,
           144026,
           692621,
           164490,
           216930,
           596716,
           360820,
           289007,
           333915,
           451954,
           1310898,
           414105,
           270848,
           306431,
           300874,
           255610,
           254757,
           178478,
           154243,
           305340,
           238895,
           342086,
           196375,
           312916,
           113316
          ],
          [
           109100,
           437157,
           248153,
           208347,
           256639,
           280524,
           251113,
           449492,
           240893,
           260547,
           243797,
           187740,
           157008,
           157753,
           184525,
           174213,
           171854,
           194344,
           219730,
           395037,
           239888,
           264316,
           352436,
           288357,
           204958,
           347689,
           228974,
           241571,
           459281,
           304975,
           232530,
           172847,
           212822,
           1148064,
           494096,
           266631,
           251547,
           207052,
           565364,
           189534,
           195056,
           137255,
           456490,
           332268,
           240329,
           181490,
           294078,
           129235
          ],
          [
           173661,
           386523,
           278668,
           148990,
           187754,
           166180,
           212655,
           430064,
           264529,
           266546,
           230859,
           216833,
           167648,
           178341,
           332374,
           158913,
           215320,
           267806,
           171949,
           211915,
           225781,
           308467,
           341871,
           284051,
           226925,
           266686,
           188110,
           210038,
           332072,
           335078,
           230817,
           185263,
           225388,
           1166118,
           552413,
           327028,
           286217,
           203945,
           348913,
           158777,
           174887,
           172115,
           294028,
           294993,
           290571,
           181309,
           182365,
           148453
          ],
          [
           213329,
           351002,
           284382,
           167001,
           146397,
           221612,
           144451,
           380440,
           261444,
           217080,
           372037,
           295231,
           197242,
           311540,
           231367,
           162797,
           234219,
           200229,
           129326,
           188367,
           119778,
           315794,
           374471,
           276360,
           211777,
           272797,
           236153,
           221116,
           227022,
           406966,
           241001,
           214818,
           226134,
           704198,
           419118,
           232058,
           165378,
           212378,
           283524,
           137186,
           205525,
           179419,
           206342,
           221701,
           273399,
           141510,
           165952,
           133807
          ],
          [
           176132,
           372873,
           220454,
           218822,
           187558,
           193885,
           237626,
           359952,
           230031,
           201515,
           220268,
           166562,
           144567,
           203321,
           206662,
           179659,
           163498,
           196245,
           187140,
           190164,
           261775,
           284937,
           335324,
           259623,
           179016,
           240309,
           173240,
           175838,
           268825,
           334518,
           252742,
           335796,
           188871,
           760348,
           290733,
           175714,
           213528,
           155648,
           299962,
           219091,
           168473,
           168710,
           299399,
           241304,
           221009,
           124458,
           294392,
           112697
          ],
          [
           215479,
           474304,
           250796,
           150262,
           126684,
           181699,
           250949,
           280211,
           268370,
           206349,
           174553,
           286754,
           226832,
           380660,
           259516,
           152681,
           249553,
           140500,
           222913,
           222367,
           133549,
           248518,
           263500,
           197623,
           155091,
           218612,
           140662,
           148888,
           302420,
           237165,
           228647,
           1299775,
           245978,
           787311,
           236707,
           236640,
           349453,
           150498,
           262447,
           446636,
           150416,
           293454,
           204542,
           301279,
           189774,
           212887,
           140809,
           176852
          ],
          [
           331315,
           460069,
           207225,
           186628,
           165052,
           237557,
           437766,
           308426,
           263812,
           204918,
           351175,
           275327,
           176653,
           404333,
           316981,
           182087,
           151643,
           126470,
           166981,
           189037,
           124163,
           250009,
           207929,
           218873,
           164106,
           193771,
           170650,
           91669,
           252044,
           178738,
           237312,
           291190,
           352965,
           610043,
           206255,
           272725,
           185560,
           136769,
           281318,
           172022,
           167836,
           351888,
           302136,
           558910,
           223477,
           141212,
           178144,
           200653
          ],
          [
           402418,
           314106,
           167701,
           364993,
           135357,
           157382,
           312866,
           196768,
           352725,
           214623,
           274862,
           155729,
           252616,
           237032,
           211417,
           198698,
           174526,
           208260,
           133318,
           234918,
           107951,
           293518,
           247459,
           234656,
           194627,
           230142,
           149598,
           149276,
           231814,
           296287,
           179113,
           254520,
           283509,
           497200,
           291108,
           280348,
           234102,
           180532,
           219620,
           152720,
           113056,
           282370,
           187451,
           289987,
           199226,
           232821,
           145089,
           255575
          ],
          [
           447232,
           337367,
           163184,
           440439,
           235907,
           150771,
           196423,
           258587,
           220298,
           231556,
           234216,
           213648,
           143642,
           209644,
           180659,
           229794,
           146760,
           170790,
           166407,
           199560,
           141598,
           278349,
           195420,
           218411,
           149134,
           193099,
           153820,
           2510480,
           220209,
           286797,
           225082,
           301318,
           319698,
           661525,
           318190,
           221278,
           308371,
           109721,
           315869,
           138807,
           144295,
           141907,
           180286,
           282449,
           294165,
           243047,
           187441,
           161769
          ],
          [
           166416,
           313379,
           151403,
           269641,
           276431,
           181282,
           311670,
           294285,
           239969,
           210345,
           211814,
           170893,
           158624,
           186449,
           186025,
           130547,
           101556,
           160519,
           128346,
           200667,
           135332,
           263694,
           163322,
           280242,
           101677,
           179206,
           104399,
           2297658,
           211975,
           257845,
           211338,
           255064,
           403715,
           445209,
           264373,
           278229,
           232617,
           109770,
           340153,
           128285,
           177061,
           230858,
           167082,
           184904,
           181382,
           231543,
           157646,
           230047
          ],
          [
           165519,
           379636,
           141040,
           173685,
           224284,
           164151,
           298381,
           222813,
           202560,
           178678,
           190940,
           293379,
           111257,
           199360,
           158242,
           148393,
           194195,
           221637,
           185820,
           161266,
           138122,
           221450,
           205578,
           458489,
           182919,
           108347,
           202640,
           2990857,
           227813,
           257850,
           250834,
           189116,
           285406,
           399596,
           253158,
           353171,
           314848,
           160128,
           193933,
           101745,
           186902,
           119751,
           234271,
           231439,
           148527,
           134982,
           162587,
           219181
          ],
          [
           220838,
           334913,
           140516,
           223678,
           191696,
           103957,
           156860,
           413755,
           190206,
           184803,
           154137,
           229869,
           72793,
           146341,
           124983,
           80212,
           107840,
           387011,
           108977,
           219555,
           82298,
           544270,
           389935,
           309385,
           143285,
           123974,
           106621,
           2417199,
           226877,
           296539,
           197957,
           250101,
           262202,
           396315,
           236113,
           348273,
           208490,
           134970,
           242640,
           112800,
           256880,
           138793,
           260855,
           129692,
           190326,
           143034,
           221103,
           113081
          ],
          [
           201068,
           413195,
           202629,
           148108,
           163489,
           134298,
           191850,
           220158,
           194113,
           165097,
           246528,
           175597,
           106832,
           143625,
           150762,
           91031,
           99429,
           142677,
           89580,
           168521,
           112809,
           484135,
           295541,
           345811,
           93620,
           109568,
           158093,
           1782769,
           323826,
           240587,
           290306,
           150919,
           313190,
           334648,
           273555,
           453707,
           337463,
           138086,
           220104,
           151357,
           127849,
           133967,
           195876,
           240769,
           281394,
           182156,
           221207,
           128586
          ],
          [
           207101,
           377697,
           149397,
           272046,
           186853,
           533412,
           158596,
           299857,
           144824,
           400257,
           151018,
           152930,
           119578,
           200526,
           113963,
           120095,
           254293,
           162991,
           125958,
           294873,
           148944,
           252264,
           379141,
           416871,
           169665,
           108462,
           144254,
           1168416,
           268396,
           250171,
           152662,
           204291,
           273724,
           386417,
           369355,
           466973,
           186253,
           296545,
           326083,
           130428,
           138082,
           175104,
           219860,
           162611,
           253637,
           173401,
           87151,
           245081
          ],
          [
           195521,
           327808,
           141784,
           255744,
           180645,
           148205,
           160243,
           240947,
           218445,
           187747,
           150985,
           177191,
           161025,
           127697,
           179031,
           117482,
           113528,
           155480,
           158198,
           191544,
           239373,
           588746,
           552132,
           264676,
           157950,
           231314,
           156859,
           1917121,
           809116,
           334311,
           191433,
           172933,
           344948,
           292027,
           267993,
           305236,
           171649,
           153681,
           433654,
           135083,
           152173,
           208366,
           229643,
           156690,
           95356,
           201833,
           94652,
           289544
          ],
          [
           167601,
           390696,
           187679,
           128845,
           130664,
           179148,
           173395,
           188494,
           133584,
           187196,
           163888,
           163426,
           61830,
           519820,
           159601,
           150289,
           175000,
           151948,
           83949,
           343921,
           155014,
           275525,
           316990,
           200605,
           138137,
           251071,
           165562,
           1908692,
           1239233,
           253969,
           176902,
           218424,
           415845,
           235689,
           134991,
           288925,
           180009,
           103146,
           441093,
           116796,
           135370,
           105612,
           188962,
           158436,
           143824,
           137094,
           118784,
           182550
          ],
          [
           168597,
           320377,
           122392,
           125177,
           133841,
           115633,
           138843,
           227814,
           138774,
           181073,
           251534,
           134750,
           105206,
           232390,
           132923,
           156963,
           134872,
           132461,
           126034,
           211122,
           172334,
           591710,
           313106,
           197781,
           168620,
           189637,
           147818,
           1736771,
           852084,
           861872,
           201922,
           212683,
           387662,
           239874,
           224638,
           274633,
           156819,
           113256,
           468916,
           94789,
           120734,
           147362,
           170200,
           222261,
           170609,
           192077,
           96636,
           136302
          ],
          [
           97275,
           248325,
           220053,
           148881,
           92182,
           140089,
           174824,
           204602,
           155128,
           175806,
           325282,
           119004,
           135404,
           192877,
           225497,
           118337,
           92108,
           138853,
           104869,
           218350,
           174611,
           340184,
           265825,
           161397,
           93406,
           158888,
           101755,
           1016030,
           462958,
           404003,
           178459,
           159384,
           322626,
           371618,
           222584,
           141655,
           130743,
           137985,
           385331,
           92700,
           148847,
           98365,
           178059,
           177959,
           135478,
           210673,
           142508,
           118388
          ],
          [
           143259,
           505272,
           157749,
           139599,
           123679,
           107513,
           150317,
           311518,
           149183,
           276280,
           210199,
           163368,
           147403,
           173897,
           126019,
           157397,
           98536,
           177204,
           88715,
           273266,
           134815,
           300634,
           242527,
           127798,
           272978,
           225007,
           102382,
           1244082,
           616241,
           243379,
           182371,
           156078,
           318924,
           464833,
           171276,
           219420,
           129171,
           95671,
           296529,
           87671,
           172213,
           128061,
           148237,
           135573,
           131726,
           96812,
           208997,
           129976
          ],
          [
           174501,
           426873,
           139622,
           186504,
           92283,
           152260,
           116703,
           326684,
           118874,
           233033,
           228266,
           228599,
           153882,
           186899,
           166754,
           154995,
           107631,
           104744,
           100286,
           367968,
           131760,
           269035,
           206400,
           203706,
           135148,
           169565,
           100108,
           1304399,
           401273,
           365803,
           310608,
           101141,
           241835,
           484433,
           272813,
           217090,
           108695,
           116650,
           398642,
           131003,
           237142,
           126235,
           121011,
           124128,
           157778,
           136228,
           82481,
           88777
          ],
          [
           142602,
           319500,
           146844,
           131463,
           139457,
           241885,
           126542,
           284260,
           166920,
           206043,
           131963,
           181394,
           111666,
           170801,
           149925,
           159030,
           95151,
           162335,
           123718,
           278376,
           219741,
           319763,
           190848,
           220268,
           281530,
           166395,
           109944,
           1787674,
           699644,
           225560,
           650494,
           123756,
           213701,
           343771,
           303959,
           170136,
           155941,
           139917,
           297861,
           110664,
           322533,
           234921,
           202193,
           120369,
           109058,
           120842,
           78919,
           67875
          ],
          [
           184602,
           257552,
           163294,
           108198,
           117278,
           112479,
           108847,
           241653,
           148771,
           228393,
           107038,
           100512,
           94711,
           237575,
           156246,
           213290,
           107458,
           143206,
           156831,
           374578,
           272321,
           327035,
           194208,
           224153,
           155645,
           109981,
           127488,
           1806083,
           264040,
           315226,
           211732,
           92548,
           227007,
           350666,
           156132,
           159300,
           171200,
           169583,
           261871,
           77936,
           132969,
           113913,
           146043,
           141811,
           115246,
           129344,
           117899,
           85411
          ],
          [
           183944,
           364496,
           146725,
           151737,
           97590,
           117225,
           94798,
           202848,
           135395,
           176804,
           102945,
           103774,
           103702,
           188498,
           224534,
           198204,
           61050,
           100832,
           115189,
           254614,
           177897,
           239103,
           166575,
           138588,
           130287,
           88341,
           96512,
           1271487,
           224112,
           193241,
           237596,
           117056,
           267017,
           330155,
           235015,
           118633,
           110203,
           83299,
           187440,
           96171,
           164526,
           145802,
           152889,
           107093,
           71085,
           125718,
           58303,
           111481
          ],
          [
           165206,
           295935,
           268027,
           110232,
           108279,
           141764,
           105193,
           197601,
           129726,
           170895,
           168869,
           121643,
           135825,
           162138,
           165948,
           195897,
           114567,
           162427,
           71170,
           280835,
           165044,
           181281,
           155153,
           183370,
           111835,
           240149,
           75614,
           1137811,
           386577,
           198781,
           410851,
           104818,
           222318,
           328855,
           194037,
           146316,
           127401,
           80973,
           243104,
           109999,
           158360,
           96842,
           131641,
           118311,
           128096,
           136695,
           79709,
           118738
          ],
          [
           83488,
           416917,
           186856,
           111840,
           78919,
           126700,
           105852,
           148009,
           177414,
           108227,
           94040,
           115367,
           88744,
           164251,
           111423,
           161771,
           68163,
           123803,
           93309,
           176142,
           135095,
           211864,
           204161,
           145799,
           107242,
           142934,
           73882,
           1579674,
           260498,
           160036,
           259398,
           144905,
           370327,
           264082,
           206278,
           151282,
           140690,
           95101,
           162689,
           123050,
           80585,
           101057,
           57008,
           91027,
           128576,
           127493,
           112504,
           104944
          ],
          [
           107883,
           217917,
           177217,
           137793,
           95648,
           98509,
           105267,
           210295,
           96580,
           142365,
           180696,
           108238,
           186443,
           122435,
           155003,
           200882,
           147383,
           148023,
           119224,
           213868,
           102971,
           192294,
           153249,
           168737,
           119694,
           107757,
           75870,
           1203843,
           302997,
           180100,
           158152,
           150832,
           357705,
           333828,
           155017,
           156780,
           143149,
           97592,
           210317,
           106115,
           83282,
           115127,
           115242,
           130036,
           124988,
           72040,
           77497,
           91422
          ],
          [
           91915,
           172390,
           150786,
           125809,
           152569,
           104982,
           175092,
           222993,
           128874,
           115961,
           180832,
           178883,
           125272,
           143382,
           132433,
           163304,
           78084,
           162976,
           87648,
           106687,
           146686,
           177884,
           162616,
           132373,
           153155,
           236253,
           68176,
           818251,
           249795,
           198955,
           178859,
           163462,
           375846,
           326210,
           172626,
           155625,
           177623,
           144244,
           196135,
           112456,
           184526,
           101795,
           122762,
           138765,
           116411,
           121968,
           101757,
           72254
          ],
          [
           110592,
           318326,
           135100,
           88712,
           183220,
           193450,
           99442,
           288207,
           127116,
           112461,
           101706,
           204693,
           182426,
           118278,
           81916,
           197024,
           134389,
           156055,
           90686,
           202365,
           98945,
           191549,
           198880,
           122794,
           104530,
           256255,
           116750,
           604157,
           448038,
           165265,
           171538,
           175651,
           239331,
           530929,
           428621,
           175035,
           206497,
           182385,
           176193,
           189218,
           166046,
           75192,
           150519,
           133782,
           89809,
           127822,
           111329,
           74074
          ],
          [
           121439,
           346371,
           128420,
           122601,
           140139,
           96366,
           153134,
           226316,
           129733,
           196965,
           90349,
           88639,
           98758,
           161797,
           74820,
           183182,
           72035,
           130581,
           93898,
           335871,
           81080,
           212037,
           218715,
           119723,
           94879,
           171763,
           88118,
           587753,
           332409,
           134072,
           290832,
           129486,
           275312,
           286691,
           167806,
           196024,
           154921,
           109079,
           192025,
           82407,
           102015,
           88317,
           149329,
           148325,
           66023,
           101256,
           89088,
           285926
          ],
          [
           160251,
           302871,
           157077,
           79040,
           177132,
           108702,
           146981,
           225896,
           109380,
           127068,
           93513,
           143289,
           120389,
           133896,
           181975,
           159061,
           96379,
           141367,
           59037,
           299423,
           97333,
           171236,
           122804,
           191248,
           117907,
           154169,
           93097,
           364360,
           218761,
           131721,
           237556,
           121227,
           233519,
           328855,
           535052,
           149909,
           220321,
           92103,
           178540,
           135239,
           134333,
           89251,
           202989,
           139890,
           74884,
           119631,
           61911,
           154024
          ],
          [
           178714,
           386467,
           140364,
           92096,
           95809,
           320933,
           164614,
           315710,
           103483,
           188819,
           124367,
           118178,
           172477,
           146869,
           1206283,
           200438,
           82999,
           115480,
           68392,
           186800,
           111945,
           174336,
           138827,
           178070,
           99542,
           167320,
           82222,
           508216,
           182504,
           173259,
           183500,
           159630,
           189296,
           283298,
           393246,
           132947,
           150296,
           134302,
           135906,
           95507,
           116536,
           86560,
           109306,
           111411,
           115313,
           79874,
           90285,
           116944
          ],
          [
           126175,
           264350,
           114961,
           90035,
           86497,
           130517,
           127331,
           191101,
           118130,
           159144,
           125312,
           130458,
           108449,
           226932,
           111667,
           213214,
           82745,
           96426,
           74693,
           253544,
           135693,
           238212,
           94713,
           124246,
           99078,
           120520,
           85134,
           768101,
           308832,
           220333,
           224290,
           141058,
           205812,
           284411,
           525177,
           94132,
           156155,
           129821,
           127049,
           97057,
           212111,
           72112,
           163267,
           103971,
           67496,
           132260,
           102852,
           98655
          ],
          [
           166421,
           250672,
           184487,
           115677,
           104489,
           219777,
           167061,
           312799,
           130317,
           115038,
           113929,
           117065,
           73755,
           152911,
           146659,
           233863,
           79121,
           166837,
           84657,
           236668,
           115447,
           278054,
           182265,
           176933,
           86133,
           110342,
           63360,
           934396,
           387473,
           204374,
           466430,
           180465,
           270107,
           218287,
           460974,
           182403,
           181951,
           167256,
           172769,
           85204,
           411767,
           121277,
           98527,
           141490,
           109878,
           104204,
           108036,
           124212
          ],
          [
           114998,
           262838,
           182562,
           94608,
           109903,
           127252,
           156683,
           230678,
           121356,
           206059,
           125569,
           127714,
           117148,
           107808,
           119555,
           154766,
           56439,
           89871,
           79501,
           190417,
           133198,
           175408,
           239688,
           167053,
           92644,
           129410,
           75693,
           528770,
           414380,
           173089,
           163697,
           155109,
           336278,
           256607,
           722014,
           130936,
           197736,
           114293,
           119467,
           80246,
           73988,
           80349,
           144081,
           82376,
           91973,
           98912,
           89965,
           349339
          ],
          [
           167945,
           269444,
           175599,
           117893,
           128166,
           119805,
           122522,
           399903,
           129636,
           230741,
           123645,
           152910,
           142708,
           162814,
           137731,
           172528,
           86728,
           104692,
           66819,
           131318,
           242287,
           179130,
           224909,
           145234,
           109904,
           130663,
           146614,
           277984,
           308697,
           154533,
           192031,
           92265,
           195865,
           304675,
           351800,
           187536,
           178848,
           82496,
           126875,
           65719,
           119070,
           103529,
           86699,
           92776,
           201870,
           111606,
           61488,
           151286
          ],
          [
           163134,
           305997,
           196914,
           143686,
           248584,
           122048,
           207513,
           362574,
           147064,
           123284,
           86967,
           144302,
           89240,
           117885,
           192107,
           127496,
           89538,
           108444,
           83032,
           193269,
           104614,
           202563,
           201868,
           144145,
           84626,
           90337,
           146773,
           228312,
           294286,
           140918,
           149477,
           135329,
           186764,
           364819,
           234187,
           224303,
           168500,
           110228,
           131096,
           133378,
           127898,
           837544,
           122625,
           104099,
           807495,
           95360,
           71866,
           122976
          ],
          [
           123629,
           260297,
           161252,
           124341,
           110781,
           138589,
           158812,
           186751,
           134191,
           111883,
           88052,
           144553,
           107520,
           122374,
           131660,
           169696,
           103895,
           97103,
           65192,
           137951,
           131290,
           176184,
           138024,
           168998,
           207730,
           145451,
           94790,
           405680,
           265479,
           166248,
           187155,
           1376550,
           202939,
           234265,
           226490,
           157564,
           128276,
           112146,
           132656,
           120016,
           116139,
           74962,
           140931,
           64769,
           145987,
           122379,
           127969,
           100635
          ],
          [
           170055,
           269235,
           243574,
           123943,
           184262,
           185760,
           124002,
           365786,
           91603,
           164189,
           82049,
           133752,
           75560,
           131569,
           165690,
           179229,
           139504,
           104382,
           100367,
           128554,
           200330,
           133185,
           154423,
           115825,
           105510,
           128694,
           109379,
           331224,
           334105,
           142107,
           278877,
           161532,
           177644,
           227096,
           223424,
           178077,
           114539,
           124326,
           165521,
           132864,
           161081,
           71345,
           103263,
           93317,
           187187,
           118758,
           88428,
           100467
          ],
          [
           132730,
           252513,
           142464,
           79582,
           204962,
           146212,
           549952,
           362538,
           150413,
           139443,
           87100,
           183152,
           128460,
           156353,
           181195,
           172900,
           209528,
           96305,
           164741,
           134084,
           154299,
           169000,
           196918,
           156528,
           166729,
           193151,
           102234,
           403704,
           399358,
           206372,
           221509,
           218865,
           284174,
           582098,
           348905,
           151540,
           137116,
           95044,
           140915,
           142362,
           264205,
           112024,
           153714,
           150466,
           111683,
           217492,
           77479,
           103542
          ],
          [
           118066,
           251164,
           115636,
           115894,
           104095,
           148148,
           514033,
           265775,
           133999,
           112507,
           96678,
           149964,
           160166,
           167761,
           168721,
           106397,
           160023,
           97263,
           135472,
           134527,
           136147,
           188488,
           205927,
           164207,
           189833,
           124349,
           121017,
           483378,
           317847,
           202673,
           199568,
           327415,
           209756,
           449020,
           335854,
           176726,
           201476,
           94753,
           161428,
           125834,
           208970,
           87560,
           136142,
           124305,
           125734,
           532243,
           157338,
           73805
          ],
          [
           129069,
           207983,
           123153,
           81554,
           101144,
           202816,
           270799,
           219958,
           143078,
           123508,
           95088,
           162693,
           163609,
           122126,
           151247,
           154249,
           113016,
           120178,
           161095,
           170623,
           158684,
           246711,
           162249,
           181057,
           183267,
           108997,
           106140,
           458420,
           392096,
           256378,
           226515,
           176802,
           291119,
           659858,
           469043,
           158558,
           165534,
           89660,
           157405,
           140938,
           259863,
           59963,
           130523,
           186616,
           202624,
           122240,
           111448,
           92117
          ],
          [
           81735,
           210854,
           162055,
           112187,
           184088,
           114457,
           263633,
           303963,
           218343,
           125009,
           167444,
           140707,
           106749,
           103311,
           214265,
           157789,
           124914,
           119584,
           211774,
           169374,
           226642,
           215988,
           179405,
           153142,
           313394,
           108987,
           136372,
           304827,
           328435,
           254486,
           206999,
           187778,
           301886,
           365264,
           289305,
           94109,
           135185,
           109602,
           135382,
           100468,
           198883,
           92004,
           170508,
           159740,
           225434,
           448990,
           129921,
           69625
          ],
          [
           110554,
           215926,
           132655,
           111550,
           92407,
           96013,
           237408,
           206884,
           135154,
           101860,
           136277,
           125495,
           111459,
           131102,
           208280,
           137941,
           106552,
           107505,
           131984,
           161657,
           93866,
           266385,
           154237,
           104269,
           307953,
           159002,
           105123,
           491872,
           336740,
           265995,
           278786,
           156593,
           345649,
           267925,
           266057,
           131781,
           120314,
           105647,
           210881,
           73922,
           217529,
           97438,
           202376,
           176810,
           126769,
           134119,
           106415,
           207356
          ],
          [
           148398,
           197485,
           101459,
           114325,
           137426,
           205411,
           210713,
           349803,
           193958,
           258710,
           111384,
           179429,
           135662,
           131975,
           201552,
           117643,
           103643,
           163776,
           90641,
           142137,
           104177,
           207134,
           168707,
           137071,
           183834,
           164375,
           158665,
           346574,
           274996,
           337340,
           262498,
           148152,
           279147,
           331952,
           499289,
           92836,
           98497,
           123128,
           122827,
           76450,
           195643,
           153597,
           114828,
           103910,
           150199,
           120291,
           77035,
           115783
          ],
          [
           196955,
           253010,
           135153,
           111725,
           238781,
           204464,
           294500,
           198284,
           316903,
           123850,
           236015,
           195674,
           79286,
           161363,
           144929,
           119618,
           127657,
           128163,
           87703,
           169656,
           104899,
           171752,
           153161,
           166746,
           145430,
           209751,
           163380,
           389526,
           331072,
           349392,
           890723,
           320038,
           211394,
           345373,
           386983,
           134769,
           173928,
           87630,
           118780,
           83793,
           154305,
           84480,
           134041,
           136667,
           193562,
           193151,
           150168,
           96832
          ],
          [
           84090,
           309944,
           166083,
           118788,
           116331,
           137651,
           416662,
           252814,
           189635,
           83856,
           171743,
           185702,
           120142,
           146804,
           164917,
           114130,
           63329,
           194737,
           90032,
           129814,
           87215,
           162034,
           234341,
           137663,
           95759,
           182855,
           135848,
           349440,
           312618,
           233106,
           295725,
           152054,
           228005,
           620348,
           338040,
           201574,
           206529,
           102046,
           139405,
           111862,
           178525,
           96589,
           129790,
           96002,
           308616,
           116486,
           102608,
           115158
          ],
          [
           100473,
           233922,
           131998,
           80721,
           103779,
           176114,
           327027,
           319362,
           293883,
           94471,
           100593,
           206340,
           153438,
           159897,
           129944,
           131624,
           103386,
           187113,
           124847,
           193925,
           159270,
           170493,
           149158,
           248435,
           95647,
           114743,
           107871,
           348457,
           210704,
           245907,
           242040,
           256180,
           228208,
           930991,
           297459,
           239865,
           239848,
           99418,
           169386,
           79127,
           187812,
           144083,
           172259,
           107503,
           78979,
           136355,
           81571,
           99113
          ],
          [
           160453,
           202137,
           132074,
           120344,
           159760,
           111130,
           305663,
           246763,
           216120,
           232844,
           113646,
           131614,
           191251,
           148298,
           159830,
           132895,
           88761,
           145358,
           109550,
           175613,
           146681,
           175507,
           157496,
           193547,
           107849,
           73098,
           125152,
           262767,
           235750,
           234676,
           271949,
           253890,
           222935,
           508355,
           317501,
           175760,
           217154,
           62698,
           160076,
           94755,
           139440,
           78122,
           111495,
           95160,
           101181,
           108669,
           91926,
           58751
          ],
          [
           168731,
           213443,
           104806,
           81092,
           312788,
           148579,
           277676,
           486875,
           170658,
           128366,
           110267,
           241733,
           135432,
           124418,
           213684,
           85929,
           69302,
           125088,
           102227,
           156691,
           131163,
           227635,
           186239,
           144637,
           125556,
           124328,
           110098,
           276434,
           224462,
           264870,
           359717,
           125518,
           215053,
           410047,
           359113,
           262806,
           173086,
           112172,
           123124,
           112573,
           218412,
           114747,
           116513,
           130266,
           159970,
           103054,
           81221,
           57370
          ],
          [
           111684,
           219437,
           256335,
           112968,
           210888,
           163889,
           231123,
           456312,
           659690,
           157285,
           138659,
           870270,
           90037,
           91191,
           165197,
           116085,
           107884,
           142387,
           95809,
           131289,
           97996,
           195434,
           191492,
           143636,
           144013,
           227611,
           120780,
           348988,
           209812,
           253263,
           318740,
           97360,
           386732,
           434058,
           322783,
           166358,
           189496,
           133856,
           134923,
           96177,
           204075,
           106233,
           167561,
           117949,
           108648,
           0,
           85579,
           108090
          ],
          [
           173185,
           208370,
           139059,
           95964,
           246595,
           518538,
           217687,
           381395,
           364549,
           103823,
           161641,
           158234,
           187475,
           140293,
           149971,
           195162,
           120276,
           113793,
           71954,
           128042,
           121717,
           225259,
           183534,
           133195,
           120984,
           300265,
           105840,
           568619,
           198926,
           430938,
           558004,
           144688,
           341057,
           351210,
           248296,
           141759,
           243863,
           103725,
           137203,
           105479,
           285614,
           85291,
           149056,
           114360,
           119144,
           151016,
           147975,
           107225
          ],
          [
           154696,
           196844,
           166467,
           143128,
           315897,
           110302,
           414615,
           308493,
           185422,
           100736,
           162058,
           125930,
           134412,
           229150,
           119437,
           250887,
           104461,
           211040,
           116402,
           162978,
           81925,
           290215,
           184103,
           151201,
           131842,
           246646,
           115104,
           278055,
           287696,
           307708,
           544245,
           171355,
           323287,
           641493,
           434842,
           238895,
           192355,
           107493,
           268691,
           153662,
           367661,
           137879,
           126869,
           163921,
           65602,
           131078,
           138366,
           112854
          ],
          [
           139085,
           320041,
           202128,
           106226,
           315015,
           103601,
           342541,
           271062,
           220441,
           177313,
           104252,
           162374,
           171220,
           109099,
           153823,
           181732,
           100713,
           167307,
           91665,
           159144,
           119682,
           169727,
           165716,
           164148,
           225612,
           469530,
           150752,
           320253,
           298545,
           269501,
           518955,
           124964,
           307697,
           397583,
           313064,
           220042,
           218857,
           102228,
           259255,
           273869,
           210216,
           117252,
           122124,
           139343,
           107247,
           120126,
           166000,
           178559
          ],
          [
           141424,
           272544,
           169903,
           124138,
           394428,
           178387,
           232686,
           393917,
           584899,
           145769,
           128021,
           188604,
           205584,
           142226,
           163163,
           148898,
           120602,
           167996,
           81755,
           187402,
           250424,
           233686,
           207641,
           184002,
           188740,
           190494,
           320483,
           389157,
           300637,
           369832,
           281701,
           127898,
           268083,
           464214,
           381248,
           182675,
           161915,
           108910,
           308757,
           197174,
           235941,
           114819,
           157051,
           118088,
           75809,
           137384,
           157254,
           144604
          ],
          [
           116241,
           376040,
           229438,
           101833,
           293032,
           189511,
           192748,
           380082,
           235778,
           154907,
           155535,
           210482,
           139103,
           142714,
           203726,
           167918,
           77296,
           165624,
           154377,
           167203,
           177770,
           296852,
           184028,
           232977,
           268891,
           218259,
           241473,
           532122,
           425060,
           270813,
           490059,
           129024,
           290772,
           600601,
           354655,
           208580,
           254599,
           98644,
           248267,
           135657,
           241618,
           99968,
           145326,
           118739,
           99608,
           136320,
           123236,
           159056
          ],
          [
           133577,
           411199,
           116418,
           100773,
           242049,
           127155,
           241849,
           889070,
           202764,
           144623,
           172565,
           180529,
           151823,
           112601,
           248946,
           114837,
           123264,
           170477,
           158383,
           157034,
           199150,
           228537,
           181412,
           282161,
           210797,
           213738,
           198430,
           551305,
           358725,
           294157,
           420373,
           190098,
           312979,
           367480,
           361570,
           242623,
           119219,
           131411,
           281363,
           146059,
           197860,
           126710,
           160792,
           117181,
           150999,
           143919,
           118124,
           270139
          ],
          [
           154853,
           342848,
           152464,
           163212,
           244645,
           265033,
           243363,
           343046,
           266120,
           261570,
           276349,
           228617,
           237630,
           168246,
           253801,
           144017,
           123879,
           208685,
           157498,
           162537,
           187974,
           260184,
           261445,
           235425,
           245551,
           193151,
           207161,
           1028651,
           286214,
           403389,
           758151,
           250018,
           351258,
           674513,
           315657,
           209785,
           167348,
           136659,
           289326,
           121949,
           164951,
           123361,
           196469,
           155563,
           144556,
           196350,
           156534,
           313840
          ],
          [
           197902,
           463621,
           154641,
           229494,
           272677,
           185406,
           214806,
           580633,
           234223,
           199352,
           248563,
           317646,
           175884,
           201717,
           240678,
           145047,
           241164,
           255130,
           167909,
           165156,
           288108,
           316689,
           212873,
           264034,
           210091,
           240343,
           176313,
           924925,
           286433,
           370164,
           732744,
           180059,
           363915,
           548864,
           551510,
           219823,
           233509,
           142710,
           285322,
           121774,
           227897,
           126561,
           168121,
           175198,
           125398,
           165967,
           155376,
           158676
          ],
          [
           273096,
           584685,
           186109,
           150614,
           281010,
           192064,
           227439,
           440070,
           326276,
           260037,
           211337,
           331180,
           254504,
           276143,
           200933,
           153274,
           128940,
           284142,
           140454,
           180058,
           265511,
           346426,
           273915,
           188433,
           297560,
           209030,
           218186,
           751657,
           244094,
           424858,
           749211,
           259966,
           445506,
           697188,
           1080791,
           259670,
           266013,
           210475,
           400953,
           164403,
           210550,
           158134,
           276466,
           222651,
           163060,
           217661,
           183674,
           188059
          ],
          [
           242347,
           676680,
           271362,
           188413,
           277280,
           197523,
           498355,
           605158,
           362016,
           310114,
           256350,
           423795,
           205440,
           352423,
           383428,
           122829,
           168048,
           418277,
           178305,
           255333,
           398991,
           408483,
           460486,
           283273,
           276970,
           332041,
           329055,
           755123,
           371017,
           390487,
           1008814,
           247495,
           704623,
           692444,
           761958,
           328734,
           321438,
           252258,
           460985,
           131087,
           257859,
           174627,
           321659,
           315142,
           170099,
           241240,
           191759,
           189189
          ],
          [
           339590,
           945156,
           395578,
           616548,
           556844,
           358932,
           711314,
           796694,
           835401,
           505408,
           356350,
           545665,
           984947,
           487415,
           492237,
           364707,
           383788,
           672809,
           310876,
           495031,
           476373,
           627325,
           528864,
           534216,
           369300,
           489920,
           561803,
           1411981,
           541604,
           724311,
           5216797,
           408609,
           1326036,
           921521,
           840843,
           474390,
           510674,
           302213,
           535212,
           283744,
           479250,
           309705,
           465559,
           656702,
           192185,
           389375,
           277365,
           341984
          ]
         ]
        }
       ],
       "layout": {
        "template": {
         "data": {
          "bar": [
           {
            "error_x": {
             "color": "#2a3f5f"
            },
            "error_y": {
             "color": "#2a3f5f"
            },
            "marker": {
             "line": {
              "color": "#E5ECF6",
              "width": 0.5
             },
             "pattern": {
              "fillmode": "overlay",
              "size": 10,
              "solidity": 0.2
             }
            },
            "type": "bar"
           }
          ],
          "barpolar": [
           {
            "marker": {
             "line": {
              "color": "#E5ECF6",
              "width": 0.5
             },
             "pattern": {
              "fillmode": "overlay",
              "size": 10,
              "solidity": 0.2
             }
            },
            "type": "barpolar"
           }
          ],
          "carpet": [
           {
            "aaxis": {
             "endlinecolor": "#2a3f5f",
             "gridcolor": "white",
             "linecolor": "white",
             "minorgridcolor": "white",
             "startlinecolor": "#2a3f5f"
            },
            "baxis": {
             "endlinecolor": "#2a3f5f",
             "gridcolor": "white",
             "linecolor": "white",
             "minorgridcolor": "white",
             "startlinecolor": "#2a3f5f"
            },
            "type": "carpet"
           }
          ],
          "choropleth": [
           {
            "colorbar": {
             "outlinewidth": 0,
             "ticks": ""
            },
            "type": "choropleth"
           }
          ],
          "contour": [
           {
            "colorbar": {
             "outlinewidth": 0,
             "ticks": ""
            },
            "colorscale": [
             [
              0,
              "#0d0887"
             ],
             [
              0.1111111111111111,
              "#46039f"
             ],
             [
              0.2222222222222222,
              "#7201a8"
             ],
             [
              0.3333333333333333,
              "#9c179e"
             ],
             [
              0.4444444444444444,
              "#bd3786"
             ],
             [
              0.5555555555555556,
              "#d8576b"
             ],
             [
              0.6666666666666666,
              "#ed7953"
             ],
             [
              0.7777777777777778,
              "#fb9f3a"
             ],
             [
              0.8888888888888888,
              "#fdca26"
             ],
             [
              1,
              "#f0f921"
             ]
            ],
            "type": "contour"
           }
          ],
          "contourcarpet": [
           {
            "colorbar": {
             "outlinewidth": 0,
             "ticks": ""
            },
            "type": "contourcarpet"
           }
          ],
          "heatmap": [
           {
            "colorbar": {
             "outlinewidth": 0,
             "ticks": ""
            },
            "colorscale": [
             [
              0,
              "#0d0887"
             ],
             [
              0.1111111111111111,
              "#46039f"
             ],
             [
              0.2222222222222222,
              "#7201a8"
             ],
             [
              0.3333333333333333,
              "#9c179e"
             ],
             [
              0.4444444444444444,
              "#bd3786"
             ],
             [
              0.5555555555555556,
              "#d8576b"
             ],
             [
              0.6666666666666666,
              "#ed7953"
             ],
             [
              0.7777777777777778,
              "#fb9f3a"
             ],
             [
              0.8888888888888888,
              "#fdca26"
             ],
             [
              1,
              "#f0f921"
             ]
            ],
            "type": "heatmap"
           }
          ],
          "heatmapgl": [
           {
            "colorbar": {
             "outlinewidth": 0,
             "ticks": ""
            },
            "colorscale": [
             [
              0,
              "#0d0887"
             ],
             [
              0.1111111111111111,
              "#46039f"
             ],
             [
              0.2222222222222222,
              "#7201a8"
             ],
             [
              0.3333333333333333,
              "#9c179e"
             ],
             [
              0.4444444444444444,
              "#bd3786"
             ],
             [
              0.5555555555555556,
              "#d8576b"
             ],
             [
              0.6666666666666666,
              "#ed7953"
             ],
             [
              0.7777777777777778,
              "#fb9f3a"
             ],
             [
              0.8888888888888888,
              "#fdca26"
             ],
             [
              1,
              "#f0f921"
             ]
            ],
            "type": "heatmapgl"
           }
          ],
          "histogram": [
           {
            "marker": {
             "pattern": {
              "fillmode": "overlay",
              "size": 10,
              "solidity": 0.2
             }
            },
            "type": "histogram"
           }
          ],
          "histogram2d": [
           {
            "colorbar": {
             "outlinewidth": 0,
             "ticks": ""
            },
            "colorscale": [
             [
              0,
              "#0d0887"
             ],
             [
              0.1111111111111111,
              "#46039f"
             ],
             [
              0.2222222222222222,
              "#7201a8"
             ],
             [
              0.3333333333333333,
              "#9c179e"
             ],
             [
              0.4444444444444444,
              "#bd3786"
             ],
             [
              0.5555555555555556,
              "#d8576b"
             ],
             [
              0.6666666666666666,
              "#ed7953"
             ],
             [
              0.7777777777777778,
              "#fb9f3a"
             ],
             [
              0.8888888888888888,
              "#fdca26"
             ],
             [
              1,
              "#f0f921"
             ]
            ],
            "type": "histogram2d"
           }
          ],
          "histogram2dcontour": [
           {
            "colorbar": {
             "outlinewidth": 0,
             "ticks": ""
            },
            "colorscale": [
             [
              0,
              "#0d0887"
             ],
             [
              0.1111111111111111,
              "#46039f"
             ],
             [
              0.2222222222222222,
              "#7201a8"
             ],
             [
              0.3333333333333333,
              "#9c179e"
             ],
             [
              0.4444444444444444,
              "#bd3786"
             ],
             [
              0.5555555555555556,
              "#d8576b"
             ],
             [
              0.6666666666666666,
              "#ed7953"
             ],
             [
              0.7777777777777778,
              "#fb9f3a"
             ],
             [
              0.8888888888888888,
              "#fdca26"
             ],
             [
              1,
              "#f0f921"
             ]
            ],
            "type": "histogram2dcontour"
           }
          ],
          "mesh3d": [
           {
            "colorbar": {
             "outlinewidth": 0,
             "ticks": ""
            },
            "type": "mesh3d"
           }
          ],
          "parcoords": [
           {
            "line": {
             "colorbar": {
              "outlinewidth": 0,
              "ticks": ""
             }
            },
            "type": "parcoords"
           }
          ],
          "pie": [
           {
            "automargin": true,
            "type": "pie"
           }
          ],
          "scatter": [
           {
            "fillpattern": {
             "fillmode": "overlay",
             "size": 10,
             "solidity": 0.2
            },
            "type": "scatter"
           }
          ],
          "scatter3d": [
           {
            "line": {
             "colorbar": {
              "outlinewidth": 0,
              "ticks": ""
             }
            },
            "marker": {
             "colorbar": {
              "outlinewidth": 0,
              "ticks": ""
             }
            },
            "type": "scatter3d"
           }
          ],
          "scattercarpet": [
           {
            "marker": {
             "colorbar": {
              "outlinewidth": 0,
              "ticks": ""
             }
            },
            "type": "scattercarpet"
           }
          ],
          "scattergeo": [
           {
            "marker": {
             "colorbar": {
              "outlinewidth": 0,
              "ticks": ""
             }
            },
            "type": "scattergeo"
           }
          ],
          "scattergl": [
           {
            "marker": {
             "colorbar": {
              "outlinewidth": 0,
              "ticks": ""
             }
            },
            "type": "scattergl"
           }
          ],
          "scattermapbox": [
           {
            "marker": {
             "colorbar": {
              "outlinewidth": 0,
              "ticks": ""
             }
            },
            "type": "scattermapbox"
           }
          ],
          "scatterpolar": [
           {
            "marker": {
             "colorbar": {
              "outlinewidth": 0,
              "ticks": ""
             }
            },
            "type": "scatterpolar"
           }
          ],
          "scatterpolargl": [
           {
            "marker": {
             "colorbar": {
              "outlinewidth": 0,
              "ticks": ""
             }
            },
            "type": "scatterpolargl"
           }
          ],
          "scatterternary": [
           {
            "marker": {
             "colorbar": {
              "outlinewidth": 0,
              "ticks": ""
             }
            },
            "type": "scatterternary"
           }
          ],
          "surface": [
           {
            "colorbar": {
             "outlinewidth": 0,
             "ticks": ""
            },
            "colorscale": [
             [
              0,
              "#0d0887"
             ],
             [
              0.1111111111111111,
              "#46039f"
             ],
             [
              0.2222222222222222,
              "#7201a8"
             ],
             [
              0.3333333333333333,
              "#9c179e"
             ],
             [
              0.4444444444444444,
              "#bd3786"
             ],
             [
              0.5555555555555556,
              "#d8576b"
             ],
             [
              0.6666666666666666,
              "#ed7953"
             ],
             [
              0.7777777777777778,
              "#fb9f3a"
             ],
             [
              0.8888888888888888,
              "#fdca26"
             ],
             [
              1,
              "#f0f921"
             ]
            ],
            "type": "surface"
           }
          ],
          "table": [
           {
            "cells": {
             "fill": {
              "color": "#EBF0F8"
             },
             "line": {
              "color": "white"
             }
            },
            "header": {
             "fill": {
              "color": "#C8D4E3"
             },
             "line": {
              "color": "white"
             }
            },
            "type": "table"
           }
          ]
         },
         "layout": {
          "annotationdefaults": {
           "arrowcolor": "#2a3f5f",
           "arrowhead": 0,
           "arrowwidth": 1
          },
          "autotypenumbers": "strict",
          "coloraxis": {
           "colorbar": {
            "outlinewidth": 0,
            "ticks": ""
           }
          },
          "colorscale": {
           "diverging": [
            [
             0,
             "#8e0152"
            ],
            [
             0.1,
             "#c51b7d"
            ],
            [
             0.2,
             "#de77ae"
            ],
            [
             0.3,
             "#f1b6da"
            ],
            [
             0.4,
             "#fde0ef"
            ],
            [
             0.5,
             "#f7f7f7"
            ],
            [
             0.6,
             "#e6f5d0"
            ],
            [
             0.7,
             "#b8e186"
            ],
            [
             0.8,
             "#7fbc41"
            ],
            [
             0.9,
             "#4d9221"
            ],
            [
             1,
             "#276419"
            ]
           ],
           "sequential": [
            [
             0,
             "#0d0887"
            ],
            [
             0.1111111111111111,
             "#46039f"
            ],
            [
             0.2222222222222222,
             "#7201a8"
            ],
            [
             0.3333333333333333,
             "#9c179e"
            ],
            [
             0.4444444444444444,
             "#bd3786"
            ],
            [
             0.5555555555555556,
             "#d8576b"
            ],
            [
             0.6666666666666666,
             "#ed7953"
            ],
            [
             0.7777777777777778,
             "#fb9f3a"
            ],
            [
             0.8888888888888888,
             "#fdca26"
            ],
            [
             1,
             "#f0f921"
            ]
           ],
           "sequentialminus": [
            [
             0,
             "#0d0887"
            ],
            [
             0.1111111111111111,
             "#46039f"
            ],
            [
             0.2222222222222222,
             "#7201a8"
            ],
            [
             0.3333333333333333,
             "#9c179e"
            ],
            [
             0.4444444444444444,
             "#bd3786"
            ],
            [
             0.5555555555555556,
             "#d8576b"
            ],
            [
             0.6666666666666666,
             "#ed7953"
            ],
            [
             0.7777777777777778,
             "#fb9f3a"
            ],
            [
             0.8888888888888888,
             "#fdca26"
            ],
            [
             1,
             "#f0f921"
            ]
           ]
          },
          "colorway": [
           "#636efa",
           "#EF553B",
           "#00cc96",
           "#ab63fa",
           "#FFA15A",
           "#19d3f3",
           "#FF6692",
           "#B6E880",
           "#FF97FF",
           "#FECB52"
          ],
          "font": {
           "color": "#2a3f5f"
          },
          "geo": {
           "bgcolor": "white",
           "lakecolor": "white",
           "landcolor": "#E5ECF6",
           "showlakes": true,
           "showland": true,
           "subunitcolor": "white"
          },
          "hoverlabel": {
           "align": "left"
          },
          "hovermode": "closest",
          "mapbox": {
           "style": "light"
          },
          "paper_bgcolor": "white",
          "plot_bgcolor": "#E5ECF6",
          "polar": {
           "angularaxis": {
            "gridcolor": "white",
            "linecolor": "white",
            "ticks": ""
           },
           "bgcolor": "#E5ECF6",
           "radialaxis": {
            "gridcolor": "white",
            "linecolor": "white",
            "ticks": ""
           }
          },
          "scene": {
           "xaxis": {
            "backgroundcolor": "#E5ECF6",
            "gridcolor": "white",
            "gridwidth": 2,
            "linecolor": "white",
            "showbackground": true,
            "ticks": "",
            "zerolinecolor": "white"
           },
           "yaxis": {
            "backgroundcolor": "#E5ECF6",
            "gridcolor": "white",
            "gridwidth": 2,
            "linecolor": "white",
            "showbackground": true,
            "ticks": "",
            "zerolinecolor": "white"
           },
           "zaxis": {
            "backgroundcolor": "#E5ECF6",
            "gridcolor": "white",
            "gridwidth": 2,
            "linecolor": "white",
            "showbackground": true,
            "ticks": "",
            "zerolinecolor": "white"
           }
          },
          "shapedefaults": {
           "line": {
            "color": "#2a3f5f"
           }
          },
          "ternary": {
           "aaxis": {
            "gridcolor": "white",
            "linecolor": "white",
            "ticks": ""
           },
           "baxis": {
            "gridcolor": "white",
            "linecolor": "white",
            "ticks": ""
           },
           "bgcolor": "#E5ECF6",
           "caxis": {
            "gridcolor": "white",
            "linecolor": "white",
            "ticks": ""
           }
          },
          "title": {
           "x": 0.05
          },
          "xaxis": {
           "automargin": true,
           "gridcolor": "white",
           "linecolor": "white",
           "ticks": "",
           "title": {
            "standoff": 15
           },
           "zerolinecolor": "white",
           "zerolinewidth": 2
          },
          "yaxis": {
           "automargin": true,
           "gridcolor": "white",
           "linecolor": "white",
           "ticks": "",
           "title": {
            "standoff": 15
           },
           "zerolinecolor": "white",
           "zerolinewidth": 2
          }
         }
        }
       }
      }
     },
     "metadata": {},
     "output_type": "display_data"
    }
   ],
   "source": [
    "\n",
    "z=data.pivot(index='daysTime', columns='dates', values='Volume').values\n",
    "x=data.dates.unique()\n",
    "y=data.daysTime.unique()\n",
    "fig = go.Figure(data=[go.Surface(z=z,x=x, y=y)])\n",
    "fig.show()\n"
   ]
  },
  {
   "cell_type": "code",
   "execution_count": 14,
   "metadata": {},
   "outputs": [
    {
     "name": "stderr",
     "output_type": "stream",
     "text": [
      "C:\\Users\\jljuncos\\AppData\\Local\\Temp\\ipykernel_7392\\2744949260.py:29: UserWarning:\n",
      "\n",
      "FixedFormatter should only be used together with FixedLocator\n",
      "\n",
      "C:\\Users\\jljuncos\\AppData\\Local\\Temp\\ipykernel_7392\\2744949260.py:30: UserWarning:\n",
      "\n",
      "FixedFormatter should only be used together with FixedLocator\n",
      "\n"
     ]
    },
    {
     "data": {
      "image/png": "[encoded data removed]",
      "text/plain": [
       "<Figure size 1500x600 with 1 Axes>"
      ]
     },
     "metadata": {
      "needs_background": "light"
     },
     "output_type": "display_data"
    }
   ],
   "source": [
    "#%matplotlib\n",
    "fig = plt.figure(figsize=(15, 6), dpi=100)\n",
    "ax = plt.axes(projection = \"3d\")\n",
    "numOfCols = x.__len__()\n",
    "numOfRows = y.__len__()\n",
    "\n",
    " \n",
    "xpos = np.arange(0, numOfCols, 1)\n",
    "ypos = np.arange(0, numOfRows, 1)\n",
    "xpos, ypos = np.meshgrid(xpos, ypos)\n",
    " \n",
    "xpos = xpos.flatten()\n",
    "ypos = ypos.flatten()\n",
    "zpos = np.zeros(numOfCols * numOfRows)\n",
    " \n",
    "dx = np.ones(numOfRows * numOfCols)\n",
    "dy = np.ones(numOfCols * numOfRows)\n",
    "dz = data.pivot(index='daysTime', columns='dates', values='Volume').fillna(0).values.flatten()\n",
    " \n",
    "ax.bar3d(xpos, ypos, zpos, dx, dy, dz)\n",
    "#xlabel = data['dates'].apply(lambda x: x.strftime('%m/%d/%Y')).unique()\n",
    "#ylabel = data['daysTime'].apply(lambda x: x.strftime('%H:%M')).sort_values().unique()\n",
    "#ax.set_yticks(np.arange(1,list(range(1,ylabel.__len__(),5)).__len__()+1,1))\n",
    "#ax.set_xticks(np.arange(1,list(range(1,xlabel.__len__(),5)).__len__()+1,1))\n",
    "\n",
    "\n",
    "#ax.set_xticklabels(xlabel[get_new_index(xlabel)])\n",
    "#ax.set_yticklabels(ylabel[get_new_index(ylabel)])\n",
    "ax.set_xticklabels(data.dates.unique().astype('datetime64[D]'))\n",
    "ax.set_yticklabels(data.daysTime.unique())\n",
    "\n",
    "ax.set_xlabel('Dates')\n",
    "ax.set_ylabel('Times')\n",
    "ax.set_zlabel('Shares')\n",
    "for angle in range(30, 31):\n",
    "   ax.view_init(30, angle)\n",
    "   plt.draw()\n",
    "   plt.pause(.001)\n",
    "\n",
    "plt.show()\n"
   ]
  }
 ],
 "metadata": {
  "kernelspec": {
   "display_name": "Python 3.8.6 64-bit",
   "language": "python",
   "name": "python3"
  },
  "language_info": {
   "codemirror_mode": {
    "name": "ipython",
    "version": 3
   },
   "file_extension": ".py",
   "mimetype": "text/x-python",
   "name": "python",
   "nbconvert_exporter": "python",
   "pygments_lexer": "ipython3",
   "version": "3.8.10"
  },
  "orig_nbformat": 4,
  "vscode": {
   "interpreter": {
    "hash": "072b738cc8bf765871edd7e78fd7e4fe5fc443d04560c0f29036b1bc08d60530"
   }
  }
 },
 "nbformat": 4,
 "nbformat_minor": 2
}
